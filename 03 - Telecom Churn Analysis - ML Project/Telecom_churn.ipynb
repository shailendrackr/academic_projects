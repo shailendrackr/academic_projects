{
 "cells": [
  {
   "cell_type": "code",
   "execution_count": 1,
   "metadata": {},
   "outputs": [
    {
     "name": "stderr",
     "output_type": "stream",
     "text": [
      "C:\\Users\\kumarabh\\AppData\\Local\\Continuum\\anaconda3\\lib\\site-packages\\sklearn\\ensemble\\weight_boosting.py:29: DeprecationWarning: numpy.core.umath_tests is an internal NumPy module and should not be imported. It will be removed in a future NumPy release.\n",
      "  from numpy.core.umath_tests import inner1d\n"
     ]
    }
   ],
   "source": [
    "import warnings\n",
    "warnings.filterwarnings(\"ignore\")\n",
    "\n",
    "import pandas as pd\n",
    "import numpy as np\n",
    "\n",
    "import seaborn as sns\n",
    "import matplotlib.pyplot as plt\n",
    "%matplotlib inline\n",
    "\n",
    "from sklearn.preprocessing import StandardScaler\n",
    "from sklearn.pipeline import Pipeline\n",
    "from sklearn.decomposition import PCA\n",
    "\n",
    "from sklearn.linear_model import LinearRegression, LogisticRegression\n",
    "from sklearn.svm import SVC\n",
    "from sklearn.ensemble import RandomForestClassifier\n",
    "\n",
    "from sklearn.model_selection import GridSearchCV, cross_val_score, train_test_split\n",
    "\n",
    "from sklearn.metrics import mean_squared_error, r2_score, accuracy_score, precision_score, recall_score, roc_curve, auc\n",
    "from sklearn.metrics import f1_score"
   ]
  },
  {
   "cell_type": "code",
   "execution_count": 2,
   "metadata": {},
   "outputs": [
    {
     "data": {
      "text/html": [
       "<div>\n",
       "<style scoped>\n",
       "    .dataframe tbody tr th:only-of-type {\n",
       "        vertical-align: middle;\n",
       "    }\n",
       "\n",
       "    .dataframe tbody tr th {\n",
       "        vertical-align: top;\n",
       "    }\n",
       "\n",
       "    .dataframe thead th {\n",
       "        text-align: right;\n",
       "    }\n",
       "</style>\n",
       "<table border=\"1\" class=\"dataframe\">\n",
       "  <thead>\n",
       "    <tr style=\"text-align: right;\">\n",
       "      <th></th>\n",
       "      <th>mobile_number</th>\n",
       "      <th>circle_id</th>\n",
       "      <th>loc_og_t2o_mou</th>\n",
       "      <th>std_og_t2o_mou</th>\n",
       "      <th>loc_ic_t2o_mou</th>\n",
       "      <th>last_date_of_month_6</th>\n",
       "      <th>last_date_of_month_7</th>\n",
       "      <th>last_date_of_month_8</th>\n",
       "      <th>last_date_of_month_9</th>\n",
       "      <th>arpu_6</th>\n",
       "      <th>...</th>\n",
       "      <th>sachet_3g_9</th>\n",
       "      <th>fb_user_6</th>\n",
       "      <th>fb_user_7</th>\n",
       "      <th>fb_user_8</th>\n",
       "      <th>fb_user_9</th>\n",
       "      <th>aon</th>\n",
       "      <th>aug_vbc_3g</th>\n",
       "      <th>jul_vbc_3g</th>\n",
       "      <th>jun_vbc_3g</th>\n",
       "      <th>sep_vbc_3g</th>\n",
       "    </tr>\n",
       "  </thead>\n",
       "  <tbody>\n",
       "    <tr>\n",
       "      <th>0</th>\n",
       "      <td>7000842753</td>\n",
       "      <td>109</td>\n",
       "      <td>0.0</td>\n",
       "      <td>0.0</td>\n",
       "      <td>0.0</td>\n",
       "      <td>6/30/2014</td>\n",
       "      <td>7/31/2014</td>\n",
       "      <td>8/31/2014</td>\n",
       "      <td>9/30/2014</td>\n",
       "      <td>197.385</td>\n",
       "      <td>...</td>\n",
       "      <td>0</td>\n",
       "      <td>1.0</td>\n",
       "      <td>1.0</td>\n",
       "      <td>1.0</td>\n",
       "      <td>NaN</td>\n",
       "      <td>968</td>\n",
       "      <td>30.4</td>\n",
       "      <td>0.0</td>\n",
       "      <td>101.20</td>\n",
       "      <td>3.58</td>\n",
       "    </tr>\n",
       "    <tr>\n",
       "      <th>1</th>\n",
       "      <td>7001865778</td>\n",
       "      <td>109</td>\n",
       "      <td>0.0</td>\n",
       "      <td>0.0</td>\n",
       "      <td>0.0</td>\n",
       "      <td>6/30/2014</td>\n",
       "      <td>7/31/2014</td>\n",
       "      <td>8/31/2014</td>\n",
       "      <td>9/30/2014</td>\n",
       "      <td>34.047</td>\n",
       "      <td>...</td>\n",
       "      <td>0</td>\n",
       "      <td>NaN</td>\n",
       "      <td>1.0</td>\n",
       "      <td>1.0</td>\n",
       "      <td>NaN</td>\n",
       "      <td>1006</td>\n",
       "      <td>0.0</td>\n",
       "      <td>0.0</td>\n",
       "      <td>0.00</td>\n",
       "      <td>0.00</td>\n",
       "    </tr>\n",
       "    <tr>\n",
       "      <th>2</th>\n",
       "      <td>7001625959</td>\n",
       "      <td>109</td>\n",
       "      <td>0.0</td>\n",
       "      <td>0.0</td>\n",
       "      <td>0.0</td>\n",
       "      <td>6/30/2014</td>\n",
       "      <td>7/31/2014</td>\n",
       "      <td>8/31/2014</td>\n",
       "      <td>9/30/2014</td>\n",
       "      <td>167.690</td>\n",
       "      <td>...</td>\n",
       "      <td>0</td>\n",
       "      <td>NaN</td>\n",
       "      <td>NaN</td>\n",
       "      <td>NaN</td>\n",
       "      <td>1.0</td>\n",
       "      <td>1103</td>\n",
       "      <td>0.0</td>\n",
       "      <td>0.0</td>\n",
       "      <td>4.17</td>\n",
       "      <td>0.00</td>\n",
       "    </tr>\n",
       "    <tr>\n",
       "      <th>3</th>\n",
       "      <td>7001204172</td>\n",
       "      <td>109</td>\n",
       "      <td>0.0</td>\n",
       "      <td>0.0</td>\n",
       "      <td>0.0</td>\n",
       "      <td>6/30/2014</td>\n",
       "      <td>7/31/2014</td>\n",
       "      <td>8/31/2014</td>\n",
       "      <td>9/30/2014</td>\n",
       "      <td>221.338</td>\n",
       "      <td>...</td>\n",
       "      <td>0</td>\n",
       "      <td>NaN</td>\n",
       "      <td>NaN</td>\n",
       "      <td>NaN</td>\n",
       "      <td>NaN</td>\n",
       "      <td>2491</td>\n",
       "      <td>0.0</td>\n",
       "      <td>0.0</td>\n",
       "      <td>0.00</td>\n",
       "      <td>0.00</td>\n",
       "    </tr>\n",
       "    <tr>\n",
       "      <th>4</th>\n",
       "      <td>7000142493</td>\n",
       "      <td>109</td>\n",
       "      <td>0.0</td>\n",
       "      <td>0.0</td>\n",
       "      <td>0.0</td>\n",
       "      <td>6/30/2014</td>\n",
       "      <td>7/31/2014</td>\n",
       "      <td>8/31/2014</td>\n",
       "      <td>9/30/2014</td>\n",
       "      <td>261.636</td>\n",
       "      <td>...</td>\n",
       "      <td>0</td>\n",
       "      <td>0.0</td>\n",
       "      <td>NaN</td>\n",
       "      <td>NaN</td>\n",
       "      <td>NaN</td>\n",
       "      <td>1526</td>\n",
       "      <td>0.0</td>\n",
       "      <td>0.0</td>\n",
       "      <td>0.00</td>\n",
       "      <td>0.00</td>\n",
       "    </tr>\n",
       "  </tbody>\n",
       "</table>\n",
       "<p>5 rows × 226 columns</p>\n",
       "</div>"
      ],
      "text/plain": [
       "   mobile_number  circle_id  loc_og_t2o_mou  std_og_t2o_mou  loc_ic_t2o_mou  \\\n",
       "0     7000842753        109             0.0             0.0             0.0   \n",
       "1     7001865778        109             0.0             0.0             0.0   \n",
       "2     7001625959        109             0.0             0.0             0.0   \n",
       "3     7001204172        109             0.0             0.0             0.0   \n",
       "4     7000142493        109             0.0             0.0             0.0   \n",
       "\n",
       "  last_date_of_month_6 last_date_of_month_7 last_date_of_month_8  \\\n",
       "0            6/30/2014            7/31/2014            8/31/2014   \n",
       "1            6/30/2014            7/31/2014            8/31/2014   \n",
       "2            6/30/2014            7/31/2014            8/31/2014   \n",
       "3            6/30/2014            7/31/2014            8/31/2014   \n",
       "4            6/30/2014            7/31/2014            8/31/2014   \n",
       "\n",
       "  last_date_of_month_9   arpu_6     ...      sachet_3g_9  fb_user_6  \\\n",
       "0            9/30/2014  197.385     ...                0        1.0   \n",
       "1            9/30/2014   34.047     ...                0        NaN   \n",
       "2            9/30/2014  167.690     ...                0        NaN   \n",
       "3            9/30/2014  221.338     ...                0        NaN   \n",
       "4            9/30/2014  261.636     ...                0        0.0   \n",
       "\n",
       "   fb_user_7  fb_user_8  fb_user_9   aon  aug_vbc_3g  jul_vbc_3g  jun_vbc_3g  \\\n",
       "0        1.0        1.0        NaN   968        30.4         0.0      101.20   \n",
       "1        1.0        1.0        NaN  1006         0.0         0.0        0.00   \n",
       "2        NaN        NaN        1.0  1103         0.0         0.0        4.17   \n",
       "3        NaN        NaN        NaN  2491         0.0         0.0        0.00   \n",
       "4        NaN        NaN        NaN  1526         0.0         0.0        0.00   \n",
       "\n",
       "   sep_vbc_3g  \n",
       "0        3.58  \n",
       "1        0.00  \n",
       "2        0.00  \n",
       "3        0.00  \n",
       "4        0.00  \n",
       "\n",
       "[5 rows x 226 columns]"
      ]
     },
     "execution_count": 2,
     "metadata": {},
     "output_type": "execute_result"
    }
   ],
   "source": [
    "#Load the data\n",
    "data = pd.read_csv(\"telecom_churn_data.csv\")\n",
    "data.head()"
   ]
  },
  {
   "cell_type": "code",
   "execution_count": 3,
   "metadata": {},
   "outputs": [
    {
     "name": "stdout",
     "output_type": "stream",
     "text": [
      "The data has : 99999  rows and  226  columns.\n"
     ]
    }
   ],
   "source": [
    "print(\"The data has :\",data.shape[0],' rows and ',data.shape[1],\" columns.\")"
   ]
  },
  {
   "cell_type": "code",
   "execution_count": 4,
   "metadata": {},
   "outputs": [
    {
     "data": {
      "text/html": [
       "<div>\n",
       "<style scoped>\n",
       "    .dataframe tbody tr th:only-of-type {\n",
       "        vertical-align: middle;\n",
       "    }\n",
       "\n",
       "    .dataframe tbody tr th {\n",
       "        vertical-align: top;\n",
       "    }\n",
       "\n",
       "    .dataframe thead th {\n",
       "        text-align: right;\n",
       "    }\n",
       "</style>\n",
       "<table border=\"1\" class=\"dataframe\">\n",
       "  <thead>\n",
       "    <tr style=\"text-align: right;\">\n",
       "      <th></th>\n",
       "      <th>mobile_number</th>\n",
       "      <th>circle_id</th>\n",
       "      <th>loc_og_t2o_mou</th>\n",
       "      <th>std_og_t2o_mou</th>\n",
       "      <th>loc_ic_t2o_mou</th>\n",
       "      <th>arpu_6</th>\n",
       "      <th>arpu_7</th>\n",
       "      <th>arpu_8</th>\n",
       "      <th>arpu_9</th>\n",
       "      <th>onnet_mou_6</th>\n",
       "      <th>...</th>\n",
       "      <th>sachet_3g_9</th>\n",
       "      <th>fb_user_6</th>\n",
       "      <th>fb_user_7</th>\n",
       "      <th>fb_user_8</th>\n",
       "      <th>fb_user_9</th>\n",
       "      <th>aon</th>\n",
       "      <th>aug_vbc_3g</th>\n",
       "      <th>jul_vbc_3g</th>\n",
       "      <th>jun_vbc_3g</th>\n",
       "      <th>sep_vbc_3g</th>\n",
       "    </tr>\n",
       "  </thead>\n",
       "  <tbody>\n",
       "    <tr>\n",
       "      <th>count</th>\n",
       "      <td>9.999900e+04</td>\n",
       "      <td>99999.0</td>\n",
       "      <td>98981.0</td>\n",
       "      <td>98981.0</td>\n",
       "      <td>98981.0</td>\n",
       "      <td>99999.000000</td>\n",
       "      <td>99999.000000</td>\n",
       "      <td>99999.000000</td>\n",
       "      <td>99999.000000</td>\n",
       "      <td>96062.000000</td>\n",
       "      <td>...</td>\n",
       "      <td>99999.000000</td>\n",
       "      <td>25153.000000</td>\n",
       "      <td>25571.000000</td>\n",
       "      <td>26339.000000</td>\n",
       "      <td>25922.000000</td>\n",
       "      <td>99999.000000</td>\n",
       "      <td>99999.000000</td>\n",
       "      <td>99999.000000</td>\n",
       "      <td>99999.000000</td>\n",
       "      <td>99999.000000</td>\n",
       "    </tr>\n",
       "    <tr>\n",
       "      <th>mean</th>\n",
       "      <td>7.001207e+09</td>\n",
       "      <td>109.0</td>\n",
       "      <td>0.0</td>\n",
       "      <td>0.0</td>\n",
       "      <td>0.0</td>\n",
       "      <td>282.987358</td>\n",
       "      <td>278.536648</td>\n",
       "      <td>279.154731</td>\n",
       "      <td>261.645069</td>\n",
       "      <td>132.395875</td>\n",
       "      <td>...</td>\n",
       "      <td>0.084581</td>\n",
       "      <td>0.914404</td>\n",
       "      <td>0.908764</td>\n",
       "      <td>0.890808</td>\n",
       "      <td>0.860968</td>\n",
       "      <td>1219.854749</td>\n",
       "      <td>68.170248</td>\n",
       "      <td>66.839062</td>\n",
       "      <td>60.021204</td>\n",
       "      <td>3.299373</td>\n",
       "    </tr>\n",
       "    <tr>\n",
       "      <th>std</th>\n",
       "      <td>6.956694e+05</td>\n",
       "      <td>0.0</td>\n",
       "      <td>0.0</td>\n",
       "      <td>0.0</td>\n",
       "      <td>0.0</td>\n",
       "      <td>328.439770</td>\n",
       "      <td>338.156291</td>\n",
       "      <td>344.474791</td>\n",
       "      <td>341.998630</td>\n",
       "      <td>297.207406</td>\n",
       "      <td>...</td>\n",
       "      <td>0.650457</td>\n",
       "      <td>0.279772</td>\n",
       "      <td>0.287950</td>\n",
       "      <td>0.311885</td>\n",
       "      <td>0.345987</td>\n",
       "      <td>954.733842</td>\n",
       "      <td>267.580450</td>\n",
       "      <td>271.201856</td>\n",
       "      <td>253.938223</td>\n",
       "      <td>32.408353</td>\n",
       "    </tr>\n",
       "    <tr>\n",
       "      <th>min</th>\n",
       "      <td>7.000000e+09</td>\n",
       "      <td>109.0</td>\n",
       "      <td>0.0</td>\n",
       "      <td>0.0</td>\n",
       "      <td>0.0</td>\n",
       "      <td>-2258.709000</td>\n",
       "      <td>-2014.045000</td>\n",
       "      <td>-945.808000</td>\n",
       "      <td>-1899.505000</td>\n",
       "      <td>0.000000</td>\n",
       "      <td>...</td>\n",
       "      <td>0.000000</td>\n",
       "      <td>0.000000</td>\n",
       "      <td>0.000000</td>\n",
       "      <td>0.000000</td>\n",
       "      <td>0.000000</td>\n",
       "      <td>180.000000</td>\n",
       "      <td>0.000000</td>\n",
       "      <td>0.000000</td>\n",
       "      <td>0.000000</td>\n",
       "      <td>0.000000</td>\n",
       "    </tr>\n",
       "    <tr>\n",
       "      <th>25%</th>\n",
       "      <td>7.000606e+09</td>\n",
       "      <td>109.0</td>\n",
       "      <td>0.0</td>\n",
       "      <td>0.0</td>\n",
       "      <td>0.0</td>\n",
       "      <td>93.411500</td>\n",
       "      <td>86.980500</td>\n",
       "      <td>84.126000</td>\n",
       "      <td>62.685000</td>\n",
       "      <td>7.380000</td>\n",
       "      <td>...</td>\n",
       "      <td>0.000000</td>\n",
       "      <td>1.000000</td>\n",
       "      <td>1.000000</td>\n",
       "      <td>1.000000</td>\n",
       "      <td>1.000000</td>\n",
       "      <td>467.000000</td>\n",
       "      <td>0.000000</td>\n",
       "      <td>0.000000</td>\n",
       "      <td>0.000000</td>\n",
       "      <td>0.000000</td>\n",
       "    </tr>\n",
       "    <tr>\n",
       "      <th>50%</th>\n",
       "      <td>7.001205e+09</td>\n",
       "      <td>109.0</td>\n",
       "      <td>0.0</td>\n",
       "      <td>0.0</td>\n",
       "      <td>0.0</td>\n",
       "      <td>197.704000</td>\n",
       "      <td>191.640000</td>\n",
       "      <td>192.080000</td>\n",
       "      <td>176.849000</td>\n",
       "      <td>34.310000</td>\n",
       "      <td>...</td>\n",
       "      <td>0.000000</td>\n",
       "      <td>1.000000</td>\n",
       "      <td>1.000000</td>\n",
       "      <td>1.000000</td>\n",
       "      <td>1.000000</td>\n",
       "      <td>863.000000</td>\n",
       "      <td>0.000000</td>\n",
       "      <td>0.000000</td>\n",
       "      <td>0.000000</td>\n",
       "      <td>0.000000</td>\n",
       "    </tr>\n",
       "    <tr>\n",
       "      <th>75%</th>\n",
       "      <td>7.001812e+09</td>\n",
       "      <td>109.0</td>\n",
       "      <td>0.0</td>\n",
       "      <td>0.0</td>\n",
       "      <td>0.0</td>\n",
       "      <td>371.060000</td>\n",
       "      <td>365.344500</td>\n",
       "      <td>369.370500</td>\n",
       "      <td>353.466500</td>\n",
       "      <td>118.740000</td>\n",
       "      <td>...</td>\n",
       "      <td>0.000000</td>\n",
       "      <td>1.000000</td>\n",
       "      <td>1.000000</td>\n",
       "      <td>1.000000</td>\n",
       "      <td>1.000000</td>\n",
       "      <td>1807.500000</td>\n",
       "      <td>0.000000</td>\n",
       "      <td>0.000000</td>\n",
       "      <td>0.000000</td>\n",
       "      <td>0.000000</td>\n",
       "    </tr>\n",
       "    <tr>\n",
       "      <th>max</th>\n",
       "      <td>7.002411e+09</td>\n",
       "      <td>109.0</td>\n",
       "      <td>0.0</td>\n",
       "      <td>0.0</td>\n",
       "      <td>0.0</td>\n",
       "      <td>27731.088000</td>\n",
       "      <td>35145.834000</td>\n",
       "      <td>33543.624000</td>\n",
       "      <td>38805.617000</td>\n",
       "      <td>7376.710000</td>\n",
       "      <td>...</td>\n",
       "      <td>49.000000</td>\n",
       "      <td>1.000000</td>\n",
       "      <td>1.000000</td>\n",
       "      <td>1.000000</td>\n",
       "      <td>1.000000</td>\n",
       "      <td>4337.000000</td>\n",
       "      <td>12916.220000</td>\n",
       "      <td>9165.600000</td>\n",
       "      <td>11166.210000</td>\n",
       "      <td>2618.570000</td>\n",
       "    </tr>\n",
       "  </tbody>\n",
       "</table>\n",
       "<p>8 rows × 214 columns</p>\n",
       "</div>"
      ],
      "text/plain": [
       "       mobile_number  circle_id  loc_og_t2o_mou  std_og_t2o_mou  \\\n",
       "count   9.999900e+04    99999.0         98981.0         98981.0   \n",
       "mean    7.001207e+09      109.0             0.0             0.0   \n",
       "std     6.956694e+05        0.0             0.0             0.0   \n",
       "min     7.000000e+09      109.0             0.0             0.0   \n",
       "25%     7.000606e+09      109.0             0.0             0.0   \n",
       "50%     7.001205e+09      109.0             0.0             0.0   \n",
       "75%     7.001812e+09      109.0             0.0             0.0   \n",
       "max     7.002411e+09      109.0             0.0             0.0   \n",
       "\n",
       "       loc_ic_t2o_mou        arpu_6        arpu_7        arpu_8        arpu_9  \\\n",
       "count         98981.0  99999.000000  99999.000000  99999.000000  99999.000000   \n",
       "mean              0.0    282.987358    278.536648    279.154731    261.645069   \n",
       "std               0.0    328.439770    338.156291    344.474791    341.998630   \n",
       "min               0.0  -2258.709000  -2014.045000   -945.808000  -1899.505000   \n",
       "25%               0.0     93.411500     86.980500     84.126000     62.685000   \n",
       "50%               0.0    197.704000    191.640000    192.080000    176.849000   \n",
       "75%               0.0    371.060000    365.344500    369.370500    353.466500   \n",
       "max               0.0  27731.088000  35145.834000  33543.624000  38805.617000   \n",
       "\n",
       "        onnet_mou_6      ...        sachet_3g_9     fb_user_6     fb_user_7  \\\n",
       "count  96062.000000      ...       99999.000000  25153.000000  25571.000000   \n",
       "mean     132.395875      ...           0.084581      0.914404      0.908764   \n",
       "std      297.207406      ...           0.650457      0.279772      0.287950   \n",
       "min        0.000000      ...           0.000000      0.000000      0.000000   \n",
       "25%        7.380000      ...           0.000000      1.000000      1.000000   \n",
       "50%       34.310000      ...           0.000000      1.000000      1.000000   \n",
       "75%      118.740000      ...           0.000000      1.000000      1.000000   \n",
       "max     7376.710000      ...          49.000000      1.000000      1.000000   \n",
       "\n",
       "          fb_user_8     fb_user_9           aon    aug_vbc_3g    jul_vbc_3g  \\\n",
       "count  26339.000000  25922.000000  99999.000000  99999.000000  99999.000000   \n",
       "mean       0.890808      0.860968   1219.854749     68.170248     66.839062   \n",
       "std        0.311885      0.345987    954.733842    267.580450    271.201856   \n",
       "min        0.000000      0.000000    180.000000      0.000000      0.000000   \n",
       "25%        1.000000      1.000000    467.000000      0.000000      0.000000   \n",
       "50%        1.000000      1.000000    863.000000      0.000000      0.000000   \n",
       "75%        1.000000      1.000000   1807.500000      0.000000      0.000000   \n",
       "max        1.000000      1.000000   4337.000000  12916.220000   9165.600000   \n",
       "\n",
       "         jun_vbc_3g    sep_vbc_3g  \n",
       "count  99999.000000  99999.000000  \n",
       "mean      60.021204      3.299373  \n",
       "std      253.938223     32.408353  \n",
       "min        0.000000      0.000000  \n",
       "25%        0.000000      0.000000  \n",
       "50%        0.000000      0.000000  \n",
       "75%        0.000000      0.000000  \n",
       "max    11166.210000   2618.570000  \n",
       "\n",
       "[8 rows x 214 columns]"
      ]
     },
     "execution_count": 4,
     "metadata": {},
     "output_type": "execute_result"
    }
   ],
   "source": [
    "data.describe()"
   ]
  },
  {
   "cell_type": "code",
   "execution_count": 5,
   "metadata": {},
   "outputs": [
    {
     "name": "stdout",
     "output_type": "stream",
     "text": [
      "<class 'pandas.core.frame.DataFrame'>\n",
      "RangeIndex: 99999 entries, 0 to 99998\n",
      "Columns: 226 entries, mobile_number to sep_vbc_3g\n",
      "dtypes: float64(179), int64(35), object(12)\n",
      "memory usage: 172.4+ MB\n"
     ]
    }
   ],
   "source": [
    "data.info()"
   ]
  },
  {
   "cell_type": "code",
   "execution_count": 6,
   "metadata": {},
   "outputs": [
    {
     "data": {
      "text/html": [
       "<div>\n",
       "<style scoped>\n",
       "    .dataframe tbody tr th:only-of-type {\n",
       "        vertical-align: middle;\n",
       "    }\n",
       "\n",
       "    .dataframe tbody tr th {\n",
       "        vertical-align: top;\n",
       "    }\n",
       "\n",
       "    .dataframe thead th {\n",
       "        text-align: right;\n",
       "    }\n",
       "</style>\n",
       "<table border=\"1\" class=\"dataframe\">\n",
       "  <thead>\n",
       "    <tr style=\"text-align: right;\">\n",
       "      <th></th>\n",
       "      <th>Features</th>\n",
       "      <th>count</th>\n",
       "      <th>Null_perc</th>\n",
       "    </tr>\n",
       "  </thead>\n",
       "  <tbody>\n",
       "    <tr>\n",
       "      <th>0</th>\n",
       "      <td>count_rech_2g_6</td>\n",
       "      <td>74846</td>\n",
       "      <td>74.85</td>\n",
       "    </tr>\n",
       "    <tr>\n",
       "      <th>1</th>\n",
       "      <td>date_of_last_rech_data_6</td>\n",
       "      <td>74846</td>\n",
       "      <td>74.85</td>\n",
       "    </tr>\n",
       "    <tr>\n",
       "      <th>2</th>\n",
       "      <td>count_rech_3g_6</td>\n",
       "      <td>74846</td>\n",
       "      <td>74.85</td>\n",
       "    </tr>\n",
       "    <tr>\n",
       "      <th>3</th>\n",
       "      <td>av_rech_amt_data_6</td>\n",
       "      <td>74846</td>\n",
       "      <td>74.85</td>\n",
       "    </tr>\n",
       "    <tr>\n",
       "      <th>4</th>\n",
       "      <td>max_rech_data_6</td>\n",
       "      <td>74846</td>\n",
       "      <td>74.85</td>\n",
       "    </tr>\n",
       "    <tr>\n",
       "      <th>5</th>\n",
       "      <td>total_rech_data_6</td>\n",
       "      <td>74846</td>\n",
       "      <td>74.85</td>\n",
       "    </tr>\n",
       "    <tr>\n",
       "      <th>6</th>\n",
       "      <td>arpu_3g_6</td>\n",
       "      <td>74846</td>\n",
       "      <td>74.85</td>\n",
       "    </tr>\n",
       "    <tr>\n",
       "      <th>7</th>\n",
       "      <td>arpu_2g_6</td>\n",
       "      <td>74846</td>\n",
       "      <td>74.85</td>\n",
       "    </tr>\n",
       "    <tr>\n",
       "      <th>8</th>\n",
       "      <td>night_pck_user_6</td>\n",
       "      <td>74846</td>\n",
       "      <td>74.85</td>\n",
       "    </tr>\n",
       "    <tr>\n",
       "      <th>9</th>\n",
       "      <td>fb_user_6</td>\n",
       "      <td>74846</td>\n",
       "      <td>74.85</td>\n",
       "    </tr>\n",
       "    <tr>\n",
       "      <th>10</th>\n",
       "      <td>arpu_3g_7</td>\n",
       "      <td>74428</td>\n",
       "      <td>74.43</td>\n",
       "    </tr>\n",
       "    <tr>\n",
       "      <th>11</th>\n",
       "      <td>count_rech_2g_7</td>\n",
       "      <td>74428</td>\n",
       "      <td>74.43</td>\n",
       "    </tr>\n",
       "    <tr>\n",
       "      <th>12</th>\n",
       "      <td>fb_user_7</td>\n",
       "      <td>74428</td>\n",
       "      <td>74.43</td>\n",
       "    </tr>\n",
       "    <tr>\n",
       "      <th>13</th>\n",
       "      <td>count_rech_3g_7</td>\n",
       "      <td>74428</td>\n",
       "      <td>74.43</td>\n",
       "    </tr>\n",
       "    <tr>\n",
       "      <th>14</th>\n",
       "      <td>arpu_2g_7</td>\n",
       "      <td>74428</td>\n",
       "      <td>74.43</td>\n",
       "    </tr>\n",
       "    <tr>\n",
       "      <th>15</th>\n",
       "      <td>av_rech_amt_data_7</td>\n",
       "      <td>74428</td>\n",
       "      <td>74.43</td>\n",
       "    </tr>\n",
       "    <tr>\n",
       "      <th>16</th>\n",
       "      <td>max_rech_data_7</td>\n",
       "      <td>74428</td>\n",
       "      <td>74.43</td>\n",
       "    </tr>\n",
       "    <tr>\n",
       "      <th>17</th>\n",
       "      <td>night_pck_user_7</td>\n",
       "      <td>74428</td>\n",
       "      <td>74.43</td>\n",
       "    </tr>\n",
       "    <tr>\n",
       "      <th>18</th>\n",
       "      <td>total_rech_data_7</td>\n",
       "      <td>74428</td>\n",
       "      <td>74.43</td>\n",
       "    </tr>\n",
       "    <tr>\n",
       "      <th>19</th>\n",
       "      <td>date_of_last_rech_data_7</td>\n",
       "      <td>74428</td>\n",
       "      <td>74.43</td>\n",
       "    </tr>\n",
       "    <tr>\n",
       "      <th>20</th>\n",
       "      <td>night_pck_user_9</td>\n",
       "      <td>74077</td>\n",
       "      <td>74.08</td>\n",
       "    </tr>\n",
       "    <tr>\n",
       "      <th>21</th>\n",
       "      <td>date_of_last_rech_data_9</td>\n",
       "      <td>74077</td>\n",
       "      <td>74.08</td>\n",
       "    </tr>\n",
       "    <tr>\n",
       "      <th>22</th>\n",
       "      <td>fb_user_9</td>\n",
       "      <td>74077</td>\n",
       "      <td>74.08</td>\n",
       "    </tr>\n",
       "    <tr>\n",
       "      <th>23</th>\n",
       "      <td>arpu_2g_9</td>\n",
       "      <td>74077</td>\n",
       "      <td>74.08</td>\n",
       "    </tr>\n",
       "    <tr>\n",
       "      <th>24</th>\n",
       "      <td>max_rech_data_9</td>\n",
       "      <td>74077</td>\n",
       "      <td>74.08</td>\n",
       "    </tr>\n",
       "    <tr>\n",
       "      <th>25</th>\n",
       "      <td>arpu_3g_9</td>\n",
       "      <td>74077</td>\n",
       "      <td>74.08</td>\n",
       "    </tr>\n",
       "    <tr>\n",
       "      <th>26</th>\n",
       "      <td>total_rech_data_9</td>\n",
       "      <td>74077</td>\n",
       "      <td>74.08</td>\n",
       "    </tr>\n",
       "    <tr>\n",
       "      <th>27</th>\n",
       "      <td>av_rech_amt_data_9</td>\n",
       "      <td>74077</td>\n",
       "      <td>74.08</td>\n",
       "    </tr>\n",
       "    <tr>\n",
       "      <th>28</th>\n",
       "      <td>count_rech_3g_9</td>\n",
       "      <td>74077</td>\n",
       "      <td>74.08</td>\n",
       "    </tr>\n",
       "    <tr>\n",
       "      <th>29</th>\n",
       "      <td>count_rech_2g_9</td>\n",
       "      <td>74077</td>\n",
       "      <td>74.08</td>\n",
       "    </tr>\n",
       "    <tr>\n",
       "      <th>30</th>\n",
       "      <td>fb_user_8</td>\n",
       "      <td>73660</td>\n",
       "      <td>73.66</td>\n",
       "    </tr>\n",
       "    <tr>\n",
       "      <th>31</th>\n",
       "      <td>av_rech_amt_data_8</td>\n",
       "      <td>73660</td>\n",
       "      <td>73.66</td>\n",
       "    </tr>\n",
       "    <tr>\n",
       "      <th>32</th>\n",
       "      <td>count_rech_3g_8</td>\n",
       "      <td>73660</td>\n",
       "      <td>73.66</td>\n",
       "    </tr>\n",
       "    <tr>\n",
       "      <th>33</th>\n",
       "      <td>count_rech_2g_8</td>\n",
       "      <td>73660</td>\n",
       "      <td>73.66</td>\n",
       "    </tr>\n",
       "    <tr>\n",
       "      <th>34</th>\n",
       "      <td>date_of_last_rech_data_8</td>\n",
       "      <td>73660</td>\n",
       "      <td>73.66</td>\n",
       "    </tr>\n",
       "    <tr>\n",
       "      <th>35</th>\n",
       "      <td>total_rech_data_8</td>\n",
       "      <td>73660</td>\n",
       "      <td>73.66</td>\n",
       "    </tr>\n",
       "    <tr>\n",
       "      <th>36</th>\n",
       "      <td>max_rech_data_8</td>\n",
       "      <td>73660</td>\n",
       "      <td>73.66</td>\n",
       "    </tr>\n",
       "    <tr>\n",
       "      <th>37</th>\n",
       "      <td>arpu_3g_8</td>\n",
       "      <td>73660</td>\n",
       "      <td>73.66</td>\n",
       "    </tr>\n",
       "    <tr>\n",
       "      <th>38</th>\n",
       "      <td>arpu_2g_8</td>\n",
       "      <td>73660</td>\n",
       "      <td>73.66</td>\n",
       "    </tr>\n",
       "    <tr>\n",
       "      <th>39</th>\n",
       "      <td>night_pck_user_8</td>\n",
       "      <td>73660</td>\n",
       "      <td>73.66</td>\n",
       "    </tr>\n",
       "    <tr>\n",
       "      <th>40</th>\n",
       "      <td>std_ic_t2m_mou_9</td>\n",
       "      <td>7745</td>\n",
       "      <td>7.75</td>\n",
       "    </tr>\n",
       "    <tr>\n",
       "      <th>41</th>\n",
       "      <td>spl_ic_mou_9</td>\n",
       "      <td>7745</td>\n",
       "      <td>7.75</td>\n",
       "    </tr>\n",
       "    <tr>\n",
       "      <th>42</th>\n",
       "      <td>loc_ic_mou_9</td>\n",
       "      <td>7745</td>\n",
       "      <td>7.75</td>\n",
       "    </tr>\n",
       "    <tr>\n",
       "      <th>43</th>\n",
       "      <td>isd_ic_mou_9</td>\n",
       "      <td>7745</td>\n",
       "      <td>7.75</td>\n",
       "    </tr>\n",
       "    <tr>\n",
       "      <th>44</th>\n",
       "      <td>std_ic_t2o_mou_9</td>\n",
       "      <td>7745</td>\n",
       "      <td>7.75</td>\n",
       "    </tr>\n",
       "    <tr>\n",
       "      <th>45</th>\n",
       "      <td>loc_ic_t2f_mou_9</td>\n",
       "      <td>7745</td>\n",
       "      <td>7.75</td>\n",
       "    </tr>\n",
       "    <tr>\n",
       "      <th>46</th>\n",
       "      <td>ic_others_9</td>\n",
       "      <td>7745</td>\n",
       "      <td>7.75</td>\n",
       "    </tr>\n",
       "    <tr>\n",
       "      <th>47</th>\n",
       "      <td>loc_og_t2f_mou_9</td>\n",
       "      <td>7745</td>\n",
       "      <td>7.75</td>\n",
       "    </tr>\n",
       "    <tr>\n",
       "      <th>48</th>\n",
       "      <td>loc_ic_t2m_mou_9</td>\n",
       "      <td>7745</td>\n",
       "      <td>7.75</td>\n",
       "    </tr>\n",
       "    <tr>\n",
       "      <th>49</th>\n",
       "      <td>loc_og_t2c_mou_9</td>\n",
       "      <td>7745</td>\n",
       "      <td>7.75</td>\n",
       "    </tr>\n",
       "  </tbody>\n",
       "</table>\n",
       "</div>"
      ],
      "text/plain": [
       "                    Features  count  Null_perc\n",
       "0            count_rech_2g_6  74846      74.85\n",
       "1   date_of_last_rech_data_6  74846      74.85\n",
       "2            count_rech_3g_6  74846      74.85\n",
       "3         av_rech_amt_data_6  74846      74.85\n",
       "4            max_rech_data_6  74846      74.85\n",
       "5          total_rech_data_6  74846      74.85\n",
       "6                  arpu_3g_6  74846      74.85\n",
       "7                  arpu_2g_6  74846      74.85\n",
       "8           night_pck_user_6  74846      74.85\n",
       "9                  fb_user_6  74846      74.85\n",
       "10                 arpu_3g_7  74428      74.43\n",
       "11           count_rech_2g_7  74428      74.43\n",
       "12                 fb_user_7  74428      74.43\n",
       "13           count_rech_3g_7  74428      74.43\n",
       "14                 arpu_2g_7  74428      74.43\n",
       "15        av_rech_amt_data_7  74428      74.43\n",
       "16           max_rech_data_7  74428      74.43\n",
       "17          night_pck_user_7  74428      74.43\n",
       "18         total_rech_data_7  74428      74.43\n",
       "19  date_of_last_rech_data_7  74428      74.43\n",
       "20          night_pck_user_9  74077      74.08\n",
       "21  date_of_last_rech_data_9  74077      74.08\n",
       "22                 fb_user_9  74077      74.08\n",
       "23                 arpu_2g_9  74077      74.08\n",
       "24           max_rech_data_9  74077      74.08\n",
       "25                 arpu_3g_9  74077      74.08\n",
       "26         total_rech_data_9  74077      74.08\n",
       "27        av_rech_amt_data_9  74077      74.08\n",
       "28           count_rech_3g_9  74077      74.08\n",
       "29           count_rech_2g_9  74077      74.08\n",
       "30                 fb_user_8  73660      73.66\n",
       "31        av_rech_amt_data_8  73660      73.66\n",
       "32           count_rech_3g_8  73660      73.66\n",
       "33           count_rech_2g_8  73660      73.66\n",
       "34  date_of_last_rech_data_8  73660      73.66\n",
       "35         total_rech_data_8  73660      73.66\n",
       "36           max_rech_data_8  73660      73.66\n",
       "37                 arpu_3g_8  73660      73.66\n",
       "38                 arpu_2g_8  73660      73.66\n",
       "39          night_pck_user_8  73660      73.66\n",
       "40          std_ic_t2m_mou_9   7745       7.75\n",
       "41              spl_ic_mou_9   7745       7.75\n",
       "42              loc_ic_mou_9   7745       7.75\n",
       "43              isd_ic_mou_9   7745       7.75\n",
       "44          std_ic_t2o_mou_9   7745       7.75\n",
       "45          loc_ic_t2f_mou_9   7745       7.75\n",
       "46               ic_others_9   7745       7.75\n",
       "47          loc_og_t2f_mou_9   7745       7.75\n",
       "48          loc_ic_t2m_mou_9   7745       7.75\n",
       "49          loc_og_t2c_mou_9   7745       7.75"
      ]
     },
     "execution_count": 6,
     "metadata": {},
     "output_type": "execute_result"
    }
   ],
   "source": [
    "null_sort = data.isnull().sum().sort_values(ascending=False)\n",
    "nullCount_df = pd.DataFrame({\"Features\": null_sort.index,\"count\":null_sort.values})\n",
    "nullCount_df[\"Null_perc\"] = round(((nullCount_df['count']/len(data))*100),2)\n",
    "nullCount_df.head(50)"
   ]
  },
  {
   "cell_type": "markdown",
   "metadata": {},
   "source": [
    "We could see that, there are 40 columns which have more than 70% of rows as null"
   ]
  },
  {
   "cell_type": "code",
   "execution_count": 7,
   "metadata": {},
   "outputs": [
    {
     "data": {
      "text/plain": [
       "99999"
      ]
     },
     "execution_count": 7,
     "metadata": {},
     "output_type": "execute_result"
    }
   ],
   "source": [
    "#all the customers are unique\n",
    "data['mobile_number'].nunique()"
   ]
  },
  {
   "cell_type": "code",
   "execution_count": 8,
   "metadata": {},
   "outputs": [
    {
     "data": {
      "text/plain": [
       "total_rech_amt_6    0\n",
       "total_rech_amt_7    0\n",
       "total_rech_amt_8    0\n",
       "total_rech_amt_9    0\n",
       "dtype: int64"
      ]
     },
     "execution_count": 8,
     "metadata": {},
     "output_type": "execute_result"
    }
   ],
   "source": [
    "#check if any null values in the attributes which we gonna use for filtering high value customer\n",
    "data[['total_rech_amt_6','total_rech_amt_7','total_rech_amt_8','total_rech_amt_9']].isnull().sum()"
   ]
  },
  {
   "cell_type": "code",
   "execution_count": 9,
   "metadata": {},
   "outputs": [],
   "source": [
    "#Getting the Training data that means filtering out all the High-Value customers\n",
    "# based on Average daily recharge amount for months june and july\n",
    "data['total_rech_amt'] = (data['total_rech_amt_6'] + data['total_rech_amt_7'])/60"
   ]
  },
  {
   "cell_type": "code",
   "execution_count": 10,
   "metadata": {},
   "outputs": [
    {
     "data": {
      "text/plain": [
       "0"
      ]
     },
     "execution_count": 10,
     "metadata": {},
     "output_type": "execute_result"
    }
   ],
   "source": [
    "\n",
    "data['total_rech_amt'].isnull().sum()"
   ]
  },
  {
   "cell_type": "code",
   "execution_count": 18,
   "metadata": {},
   "outputs": [
    {
     "data": {
      "text/plain": [
       "count    99999.000000\n",
       "mean        10.841293\n",
       "std         12.361116\n",
       "min          0.000000\n",
       "25%          3.833333\n",
       "50%          7.633333\n",
       "70%         12.283333\n",
       "75%         13.966667\n",
       "max       1258.750000\n",
       "Name: total_rech_amt, dtype: float64"
      ]
     },
     "execution_count": 18,
     "metadata": {},
     "output_type": "execute_result"
    }
   ],
   "source": [
    "data['total_rech_amt'].describe(percentiles = [0.25, 0.50,0.70, 0.75])"
   ]
  },
  {
   "cell_type": "code",
   "execution_count": 11,
   "metadata": {},
   "outputs": [
    {
     "data": {
      "text/plain": [
       "(29979, 227)"
      ]
     },
     "execution_count": 11,
     "metadata": {},
     "output_type": "execute_result"
    }
   ],
   "source": [
    "# the cut-off value for being a valuable customer is 70th percentile\n",
    "cutoff_amt = 12.3 #70th Percentile value\n",
    "val_cust = data[data.total_rech_amt>=cutoff_amt]\n",
    "val_cust.shape"
   ]
  },
  {
   "cell_type": "code",
   "execution_count": 12,
   "metadata": {},
   "outputs": [
    {
     "data": {
      "text/html": [
       "<div>\n",
       "<style scoped>\n",
       "    .dataframe tbody tr th:only-of-type {\n",
       "        vertical-align: middle;\n",
       "    }\n",
       "\n",
       "    .dataframe tbody tr th {\n",
       "        vertical-align: top;\n",
       "    }\n",
       "\n",
       "    .dataframe thead th {\n",
       "        text-align: right;\n",
       "    }\n",
       "</style>\n",
       "<table border=\"1\" class=\"dataframe\">\n",
       "  <thead>\n",
       "    <tr style=\"text-align: right;\">\n",
       "      <th></th>\n",
       "      <th>mobile_number</th>\n",
       "      <th>circle_id</th>\n",
       "      <th>loc_og_t2o_mou</th>\n",
       "      <th>std_og_t2o_mou</th>\n",
       "      <th>loc_ic_t2o_mou</th>\n",
       "      <th>last_date_of_month_6</th>\n",
       "      <th>last_date_of_month_7</th>\n",
       "      <th>last_date_of_month_8</th>\n",
       "      <th>last_date_of_month_9</th>\n",
       "      <th>arpu_6</th>\n",
       "      <th>...</th>\n",
       "      <th>fb_user_6</th>\n",
       "      <th>fb_user_7</th>\n",
       "      <th>fb_user_8</th>\n",
       "      <th>fb_user_9</th>\n",
       "      <th>aon</th>\n",
       "      <th>aug_vbc_3g</th>\n",
       "      <th>jul_vbc_3g</th>\n",
       "      <th>jun_vbc_3g</th>\n",
       "      <th>sep_vbc_3g</th>\n",
       "      <th>total_rech_amt</th>\n",
       "    </tr>\n",
       "  </thead>\n",
       "  <tbody>\n",
       "    <tr>\n",
       "      <th>7</th>\n",
       "      <td>7000701601</td>\n",
       "      <td>109</td>\n",
       "      <td>0.0</td>\n",
       "      <td>0.0</td>\n",
       "      <td>0.0</td>\n",
       "      <td>6/30/2014</td>\n",
       "      <td>7/31/2014</td>\n",
       "      <td>8/31/2014</td>\n",
       "      <td>9/30/2014</td>\n",
       "      <td>1069.180</td>\n",
       "      <td>...</td>\n",
       "      <td>NaN</td>\n",
       "      <td>NaN</td>\n",
       "      <td>NaN</td>\n",
       "      <td>NaN</td>\n",
       "      <td>802</td>\n",
       "      <td>57.74</td>\n",
       "      <td>19.38</td>\n",
       "      <td>18.74</td>\n",
       "      <td>0.0</td>\n",
       "      <td>39.500000</td>\n",
       "    </tr>\n",
       "    <tr>\n",
       "      <th>8</th>\n",
       "      <td>7001524846</td>\n",
       "      <td>109</td>\n",
       "      <td>0.0</td>\n",
       "      <td>0.0</td>\n",
       "      <td>0.0</td>\n",
       "      <td>6/30/2014</td>\n",
       "      <td>7/31/2014</td>\n",
       "      <td>8/31/2014</td>\n",
       "      <td>9/30/2014</td>\n",
       "      <td>378.721</td>\n",
       "      <td>...</td>\n",
       "      <td>NaN</td>\n",
       "      <td>1.0</td>\n",
       "      <td>1.0</td>\n",
       "      <td>NaN</td>\n",
       "      <td>315</td>\n",
       "      <td>21.03</td>\n",
       "      <td>910.65</td>\n",
       "      <td>122.16</td>\n",
       "      <td>0.0</td>\n",
       "      <td>17.300000</td>\n",
       "    </tr>\n",
       "    <tr>\n",
       "      <th>13</th>\n",
       "      <td>7002191713</td>\n",
       "      <td>109</td>\n",
       "      <td>0.0</td>\n",
       "      <td>0.0</td>\n",
       "      <td>0.0</td>\n",
       "      <td>6/30/2014</td>\n",
       "      <td>7/31/2014</td>\n",
       "      <td>8/31/2014</td>\n",
       "      <td>9/30/2014</td>\n",
       "      <td>492.846</td>\n",
       "      <td>...</td>\n",
       "      <td>NaN</td>\n",
       "      <td>NaN</td>\n",
       "      <td>1.0</td>\n",
       "      <td>NaN</td>\n",
       "      <td>2607</td>\n",
       "      <td>0.00</td>\n",
       "      <td>0.00</td>\n",
       "      <td>0.00</td>\n",
       "      <td>0.0</td>\n",
       "      <td>12.666667</td>\n",
       "    </tr>\n",
       "    <tr>\n",
       "      <th>16</th>\n",
       "      <td>7000875565</td>\n",
       "      <td>109</td>\n",
       "      <td>0.0</td>\n",
       "      <td>0.0</td>\n",
       "      <td>0.0</td>\n",
       "      <td>6/30/2014</td>\n",
       "      <td>7/31/2014</td>\n",
       "      <td>8/31/2014</td>\n",
       "      <td>9/30/2014</td>\n",
       "      <td>430.975</td>\n",
       "      <td>...</td>\n",
       "      <td>NaN</td>\n",
       "      <td>NaN</td>\n",
       "      <td>NaN</td>\n",
       "      <td>NaN</td>\n",
       "      <td>511</td>\n",
       "      <td>0.00</td>\n",
       "      <td>2.45</td>\n",
       "      <td>21.89</td>\n",
       "      <td>0.0</td>\n",
       "      <td>15.300000</td>\n",
       "    </tr>\n",
       "    <tr>\n",
       "      <th>17</th>\n",
       "      <td>7000187447</td>\n",
       "      <td>109</td>\n",
       "      <td>0.0</td>\n",
       "      <td>0.0</td>\n",
       "      <td>0.0</td>\n",
       "      <td>6/30/2014</td>\n",
       "      <td>7/31/2014</td>\n",
       "      <td>8/31/2014</td>\n",
       "      <td>9/30/2014</td>\n",
       "      <td>690.008</td>\n",
       "      <td>...</td>\n",
       "      <td>NaN</td>\n",
       "      <td>NaN</td>\n",
       "      <td>NaN</td>\n",
       "      <td>NaN</td>\n",
       "      <td>667</td>\n",
       "      <td>0.00</td>\n",
       "      <td>0.00</td>\n",
       "      <td>0.00</td>\n",
       "      <td>0.0</td>\n",
       "      <td>13.600000</td>\n",
       "    </tr>\n",
       "  </tbody>\n",
       "</table>\n",
       "<p>5 rows × 227 columns</p>\n",
       "</div>"
      ],
      "text/plain": [
       "    mobile_number  circle_id  loc_og_t2o_mou  std_og_t2o_mou  loc_ic_t2o_mou  \\\n",
       "7      7000701601        109             0.0             0.0             0.0   \n",
       "8      7001524846        109             0.0             0.0             0.0   \n",
       "13     7002191713        109             0.0             0.0             0.0   \n",
       "16     7000875565        109             0.0             0.0             0.0   \n",
       "17     7000187447        109             0.0             0.0             0.0   \n",
       "\n",
       "   last_date_of_month_6 last_date_of_month_7 last_date_of_month_8  \\\n",
       "7             6/30/2014            7/31/2014            8/31/2014   \n",
       "8             6/30/2014            7/31/2014            8/31/2014   \n",
       "13            6/30/2014            7/31/2014            8/31/2014   \n",
       "16            6/30/2014            7/31/2014            8/31/2014   \n",
       "17            6/30/2014            7/31/2014            8/31/2014   \n",
       "\n",
       "   last_date_of_month_9    arpu_6       ...        fb_user_6  fb_user_7  \\\n",
       "7             9/30/2014  1069.180       ...              NaN        NaN   \n",
       "8             9/30/2014   378.721       ...              NaN        1.0   \n",
       "13            9/30/2014   492.846       ...              NaN        NaN   \n",
       "16            9/30/2014   430.975       ...              NaN        NaN   \n",
       "17            9/30/2014   690.008       ...              NaN        NaN   \n",
       "\n",
       "    fb_user_8  fb_user_9   aon  aug_vbc_3g  jul_vbc_3g  jun_vbc_3g  \\\n",
       "7         NaN        NaN   802       57.74       19.38       18.74   \n",
       "8         1.0        NaN   315       21.03      910.65      122.16   \n",
       "13        1.0        NaN  2607        0.00        0.00        0.00   \n",
       "16        NaN        NaN   511        0.00        2.45       21.89   \n",
       "17        NaN        NaN   667        0.00        0.00        0.00   \n",
       "\n",
       "    sep_vbc_3g  total_rech_amt  \n",
       "7          0.0       39.500000  \n",
       "8          0.0       17.300000  \n",
       "13         0.0       12.666667  \n",
       "16         0.0       15.300000  \n",
       "17         0.0       13.600000  \n",
       "\n",
       "[5 rows x 227 columns]"
      ]
     },
     "execution_count": 12,
     "metadata": {},
     "output_type": "execute_result"
    }
   ],
   "source": [
    "val_cust.head()"
   ]
  },
  {
   "cell_type": "code",
   "execution_count": 13,
   "metadata": {},
   "outputs": [
    {
     "data": {
      "text/plain": [
       "total_ic_mou_9    0\n",
       "total_og_mou_9    0\n",
       "vol_2g_mb_9       0\n",
       "vol_3g_mb_9       0\n",
       "dtype: int64"
      ]
     },
     "execution_count": 13,
     "metadata": {},
     "output_type": "execute_result"
    }
   ],
   "source": [
    "#check if any null values in the attributes which we gonna use for marking the customer as churn and Non-Churn\n",
    "val_cust[['total_ic_mou_9','total_og_mou_9','vol_2g_mb_9','vol_3g_mb_9']].isnull().sum()"
   ]
  },
  {
   "cell_type": "code",
   "execution_count": 14,
   "metadata": {},
   "outputs": [],
   "source": [
    "#label marking as churn: 1 and non-churn as 0\n",
    "val_cust['churn'] = 0\n",
    "val_cust.loc[(val_cust.total_ic_mou_9==0)& (val_cust.total_og_mou_9==0) & (val_cust.vol_2g_mb_9==0) & (val_cust.vol_3g_mb_9==0),'churn'] = 1"
   ]
  },
  {
   "cell_type": "code",
   "execution_count": 15,
   "metadata": {},
   "outputs": [
    {
     "data": {
      "text/plain": [
       "count    29979.00000\n",
       "mean         0.08636\n",
       "std          0.28090\n",
       "min          0.00000\n",
       "25%          0.00000\n",
       "50%          0.00000\n",
       "75%          0.00000\n",
       "max          1.00000\n",
       "Name: churn, dtype: float64"
      ]
     },
     "execution_count": 15,
     "metadata": {},
     "output_type": "execute_result"
    }
   ],
   "source": [
    "val_cust['churn'].describe()"
   ]
  },
  {
   "cell_type": "code",
   "execution_count": 16,
   "metadata": {},
   "outputs": [
    {
     "data": {
      "text/plain": [
       "0    27390\n",
       "1     2589\n",
       "Name: churn, dtype: int64"
      ]
     },
     "execution_count": 16,
     "metadata": {},
     "output_type": "execute_result"
    }
   ],
   "source": [
    "val_cust['churn'].value_counts()"
   ]
  },
  {
   "cell_type": "code",
   "execution_count": 17,
   "metadata": {},
   "outputs": [],
   "source": [
    "#filtering the columns of month 9 and dropping them as the month 9 is churn phase\n",
    "months9 = []\n",
    "for col in data.columns:\n",
    "    if '_9' in col:\n",
    "        months9.append(col)\n",
    "val_cust.drop(months9,axis = 1, inplace = True)"
   ]
  },
  {
   "cell_type": "code",
   "execution_count": 43,
   "metadata": {},
   "outputs": [],
   "source": [
    "train.drop(['sep_vbc_3g'], axis = 1, inplace = True)"
   ]
  },
  {
   "cell_type": "code",
   "execution_count": 18,
   "metadata": {},
   "outputs": [
    {
     "data": {
      "text/html": [
       "<div>\n",
       "<style scoped>\n",
       "    .dataframe tbody tr th:only-of-type {\n",
       "        vertical-align: middle;\n",
       "    }\n",
       "\n",
       "    .dataframe tbody tr th {\n",
       "        vertical-align: top;\n",
       "    }\n",
       "\n",
       "    .dataframe thead th {\n",
       "        text-align: right;\n",
       "    }\n",
       "</style>\n",
       "<table border=\"1\" class=\"dataframe\">\n",
       "  <thead>\n",
       "    <tr style=\"text-align: right;\">\n",
       "      <th></th>\n",
       "      <th>mobile_number</th>\n",
       "      <th>circle_id</th>\n",
       "      <th>loc_og_t2o_mou</th>\n",
       "      <th>std_og_t2o_mou</th>\n",
       "      <th>loc_ic_t2o_mou</th>\n",
       "      <th>arpu_6</th>\n",
       "      <th>arpu_7</th>\n",
       "      <th>arpu_8</th>\n",
       "      <th>onnet_mou_6</th>\n",
       "      <th>onnet_mou_7</th>\n",
       "      <th>...</th>\n",
       "      <th>fb_user_6</th>\n",
       "      <th>fb_user_7</th>\n",
       "      <th>fb_user_8</th>\n",
       "      <th>aon</th>\n",
       "      <th>aug_vbc_3g</th>\n",
       "      <th>jul_vbc_3g</th>\n",
       "      <th>jun_vbc_3g</th>\n",
       "      <th>sep_vbc_3g</th>\n",
       "      <th>total_rech_amt</th>\n",
       "      <th>churn</th>\n",
       "    </tr>\n",
       "  </thead>\n",
       "  <tbody>\n",
       "    <tr>\n",
       "      <th>count</th>\n",
       "      <td>2.997900e+04</td>\n",
       "      <td>29979.0</td>\n",
       "      <td>29865.0</td>\n",
       "      <td>29865.0</td>\n",
       "      <td>29865.0</td>\n",
       "      <td>29979.000000</td>\n",
       "      <td>29979.000000</td>\n",
       "      <td>29979.000000</td>\n",
       "      <td>29663.000000</td>\n",
       "      <td>29676.000000</td>\n",
       "      <td>...</td>\n",
       "      <td>11387.000000</td>\n",
       "      <td>11652.000000</td>\n",
       "      <td>11741.000000</td>\n",
       "      <td>29979.000000</td>\n",
       "      <td>29979.000000</td>\n",
       "      <td>29979.000000</td>\n",
       "      <td>29979.000000</td>\n",
       "      <td>29979.000000</td>\n",
       "      <td>29979.000000</td>\n",
       "      <td>29979.00000</td>\n",
       "    </tr>\n",
       "    <tr>\n",
       "      <th>mean</th>\n",
       "      <td>7.001223e+09</td>\n",
       "      <td>109.0</td>\n",
       "      <td>0.0</td>\n",
       "      <td>0.0</td>\n",
       "      <td>0.0</td>\n",
       "      <td>587.587624</td>\n",
       "      <td>589.424681</td>\n",
       "      <td>535.067748</td>\n",
       "      <td>299.392147</td>\n",
       "      <td>307.701888</td>\n",
       "      <td>...</td>\n",
       "      <td>0.897603</td>\n",
       "      <td>0.889804</td>\n",
       "      <td>0.837322</td>\n",
       "      <td>1264.158911</td>\n",
       "      <td>129.482436</td>\n",
       "      <td>135.225368</td>\n",
       "      <td>121.450911</td>\n",
       "      <td>6.554528</td>\n",
       "      <td>23.233821</td>\n",
       "      <td>0.08636</td>\n",
       "    </tr>\n",
       "    <tr>\n",
       "      <th>std</th>\n",
       "      <td>6.846594e+05</td>\n",
       "      <td>0.0</td>\n",
       "      <td>0.0</td>\n",
       "      <td>0.0</td>\n",
       "      <td>0.0</td>\n",
       "      <td>442.848876</td>\n",
       "      <td>463.049067</td>\n",
       "      <td>492.447887</td>\n",
       "      <td>462.369385</td>\n",
       "      <td>483.432401</td>\n",
       "      <td>...</td>\n",
       "      <td>0.303184</td>\n",
       "      <td>0.313147</td>\n",
       "      <td>0.369087</td>\n",
       "      <td>975.181038</td>\n",
       "      <td>390.625027</td>\n",
       "      <td>408.218570</td>\n",
       "      <td>389.910814</td>\n",
       "      <td>48.630605</td>\n",
       "      <td>16.297507</td>\n",
       "      <td>0.28090</td>\n",
       "    </tr>\n",
       "    <tr>\n",
       "      <th>min</th>\n",
       "      <td>7.000000e+09</td>\n",
       "      <td>109.0</td>\n",
       "      <td>0.0</td>\n",
       "      <td>0.0</td>\n",
       "      <td>0.0</td>\n",
       "      <td>-2258.709000</td>\n",
       "      <td>-2014.045000</td>\n",
       "      <td>-945.808000</td>\n",
       "      <td>0.000000</td>\n",
       "      <td>0.000000</td>\n",
       "      <td>...</td>\n",
       "      <td>0.000000</td>\n",
       "      <td>0.000000</td>\n",
       "      <td>0.000000</td>\n",
       "      <td>180.000000</td>\n",
       "      <td>0.000000</td>\n",
       "      <td>0.000000</td>\n",
       "      <td>0.000000</td>\n",
       "      <td>0.000000</td>\n",
       "      <td>12.300000</td>\n",
       "      <td>0.00000</td>\n",
       "    </tr>\n",
       "    <tr>\n",
       "      <th>25%</th>\n",
       "      <td>7.000641e+09</td>\n",
       "      <td>109.0</td>\n",
       "      <td>0.0</td>\n",
       "      <td>0.0</td>\n",
       "      <td>0.0</td>\n",
       "      <td>364.352500</td>\n",
       "      <td>365.235000</td>\n",
       "      <td>289.782000</td>\n",
       "      <td>43.030000</td>\n",
       "      <td>42.775000</td>\n",
       "      <td>...</td>\n",
       "      <td>1.000000</td>\n",
       "      <td>1.000000</td>\n",
       "      <td>1.000000</td>\n",
       "      <td>480.000000</td>\n",
       "      <td>0.000000</td>\n",
       "      <td>0.000000</td>\n",
       "      <td>0.000000</td>\n",
       "      <td>0.000000</td>\n",
       "      <td>15.000000</td>\n",
       "      <td>0.00000</td>\n",
       "    </tr>\n",
       "    <tr>\n",
       "      <th>50%</th>\n",
       "      <td>7.001232e+09</td>\n",
       "      <td>109.0</td>\n",
       "      <td>0.0</td>\n",
       "      <td>0.0</td>\n",
       "      <td>0.0</td>\n",
       "      <td>495.951000</td>\n",
       "      <td>493.781000</td>\n",
       "      <td>452.232000</td>\n",
       "      <td>128.480000</td>\n",
       "      <td>128.120000</td>\n",
       "      <td>...</td>\n",
       "      <td>1.000000</td>\n",
       "      <td>1.000000</td>\n",
       "      <td>1.000000</td>\n",
       "      <td>914.000000</td>\n",
       "      <td>0.000000</td>\n",
       "      <td>0.000000</td>\n",
       "      <td>0.000000</td>\n",
       "      <td>0.000000</td>\n",
       "      <td>18.966667</td>\n",
       "      <td>0.00000</td>\n",
       "    </tr>\n",
       "    <tr>\n",
       "      <th>75%</th>\n",
       "      <td>7.001814e+09</td>\n",
       "      <td>109.0</td>\n",
       "      <td>0.0</td>\n",
       "      <td>0.0</td>\n",
       "      <td>0.0</td>\n",
       "      <td>704.184500</td>\n",
       "      <td>700.986000</td>\n",
       "      <td>671.349500</td>\n",
       "      <td>357.655000</td>\n",
       "      <td>365.127500</td>\n",
       "      <td>...</td>\n",
       "      <td>1.000000</td>\n",
       "      <td>1.000000</td>\n",
       "      <td>1.000000</td>\n",
       "      <td>1923.500000</td>\n",
       "      <td>1.600000</td>\n",
       "      <td>2.025000</td>\n",
       "      <td>0.000000</td>\n",
       "      <td>0.000000</td>\n",
       "      <td>26.533333</td>\n",
       "      <td>0.00000</td>\n",
       "    </tr>\n",
       "    <tr>\n",
       "      <th>max</th>\n",
       "      <td>7.002411e+09</td>\n",
       "      <td>109.0</td>\n",
       "      <td>0.0</td>\n",
       "      <td>0.0</td>\n",
       "      <td>0.0</td>\n",
       "      <td>27731.088000</td>\n",
       "      <td>35145.834000</td>\n",
       "      <td>33543.624000</td>\n",
       "      <td>7376.710000</td>\n",
       "      <td>8157.780000</td>\n",
       "      <td>...</td>\n",
       "      <td>1.000000</td>\n",
       "      <td>1.000000</td>\n",
       "      <td>1.000000</td>\n",
       "      <td>4321.000000</td>\n",
       "      <td>12916.220000</td>\n",
       "      <td>9165.600000</td>\n",
       "      <td>11166.210000</td>\n",
       "      <td>2618.570000</td>\n",
       "      <td>1258.750000</td>\n",
       "      <td>1.00000</td>\n",
       "    </tr>\n",
       "  </tbody>\n",
       "</table>\n",
       "<p>8 rows × 165 columns</p>\n",
       "</div>"
      ],
      "text/plain": [
       "       mobile_number  circle_id  loc_og_t2o_mou  std_og_t2o_mou  \\\n",
       "count   2.997900e+04    29979.0         29865.0         29865.0   \n",
       "mean    7.001223e+09      109.0             0.0             0.0   \n",
       "std     6.846594e+05        0.0             0.0             0.0   \n",
       "min     7.000000e+09      109.0             0.0             0.0   \n",
       "25%     7.000641e+09      109.0             0.0             0.0   \n",
       "50%     7.001232e+09      109.0             0.0             0.0   \n",
       "75%     7.001814e+09      109.0             0.0             0.0   \n",
       "max     7.002411e+09      109.0             0.0             0.0   \n",
       "\n",
       "       loc_ic_t2o_mou        arpu_6        arpu_7        arpu_8   onnet_mou_6  \\\n",
       "count         29865.0  29979.000000  29979.000000  29979.000000  29663.000000   \n",
       "mean              0.0    587.587624    589.424681    535.067748    299.392147   \n",
       "std               0.0    442.848876    463.049067    492.447887    462.369385   \n",
       "min               0.0  -2258.709000  -2014.045000   -945.808000      0.000000   \n",
       "25%               0.0    364.352500    365.235000    289.782000     43.030000   \n",
       "50%               0.0    495.951000    493.781000    452.232000    128.480000   \n",
       "75%               0.0    704.184500    700.986000    671.349500    357.655000   \n",
       "max               0.0  27731.088000  35145.834000  33543.624000   7376.710000   \n",
       "\n",
       "        onnet_mou_7     ...          fb_user_6     fb_user_7     fb_user_8  \\\n",
       "count  29676.000000     ...       11387.000000  11652.000000  11741.000000   \n",
       "mean     307.701888     ...           0.897603      0.889804      0.837322   \n",
       "std      483.432401     ...           0.303184      0.313147      0.369087   \n",
       "min        0.000000     ...           0.000000      0.000000      0.000000   \n",
       "25%       42.775000     ...           1.000000      1.000000      1.000000   \n",
       "50%      128.120000     ...           1.000000      1.000000      1.000000   \n",
       "75%      365.127500     ...           1.000000      1.000000      1.000000   \n",
       "max     8157.780000     ...           1.000000      1.000000      1.000000   \n",
       "\n",
       "                aon    aug_vbc_3g    jul_vbc_3g    jun_vbc_3g    sep_vbc_3g  \\\n",
       "count  29979.000000  29979.000000  29979.000000  29979.000000  29979.000000   \n",
       "mean    1264.158911    129.482436    135.225368    121.450911      6.554528   \n",
       "std      975.181038    390.625027    408.218570    389.910814     48.630605   \n",
       "min      180.000000      0.000000      0.000000      0.000000      0.000000   \n",
       "25%      480.000000      0.000000      0.000000      0.000000      0.000000   \n",
       "50%      914.000000      0.000000      0.000000      0.000000      0.000000   \n",
       "75%     1923.500000      1.600000      2.025000      0.000000      0.000000   \n",
       "max     4321.000000  12916.220000   9165.600000  11166.210000   2618.570000   \n",
       "\n",
       "       total_rech_amt        churn  \n",
       "count    29979.000000  29979.00000  \n",
       "mean        23.233821      0.08636  \n",
       "std         16.297507      0.28090  \n",
       "min         12.300000      0.00000  \n",
       "25%         15.000000      0.00000  \n",
       "50%         18.966667      0.00000  \n",
       "75%         26.533333      0.00000  \n",
       "max       1258.750000      1.00000  \n",
       "\n",
       "[8 rows x 165 columns]"
      ]
     },
     "execution_count": 18,
     "metadata": {},
     "output_type": "execute_result"
    }
   ],
   "source": [
    "val_cust.describe()"
   ]
  },
  {
   "cell_type": "code",
   "execution_count": 19,
   "metadata": {},
   "outputs": [],
   "source": [
    "#looks like some of the features has only zero values. Lets remove those columns which has constant values\n",
    "const_col = [col for col in val_cust.columns if val_cust[col].nunique() == 1]\n",
    "val_cust.drop(const_col,axis = 1, inplace = True)"
   ]
  },
  {
   "cell_type": "code",
   "execution_count": 20,
   "metadata": {},
   "outputs": [
    {
     "data": {
      "text/plain": [
       "(29979, 161)"
      ]
     },
     "execution_count": 20,
     "metadata": {},
     "output_type": "execute_result"
    }
   ],
   "source": [
    "val_cust.shape"
   ]
  },
  {
   "cell_type": "markdown",
   "metadata": {},
   "source": [
    "<h2>Data Visualization</h2>"
   ]
  },
  {
   "cell_type": "code",
   "execution_count": 21,
   "metadata": {},
   "outputs": [],
   "source": [
    "val_cust['churn'] = val_cust['churn'].map({1:'churn', 0: 'Non-Churn'})"
   ]
  },
  {
   "cell_type": "code",
   "execution_count": 22,
   "metadata": {},
   "outputs": [
    {
     "data": {
      "image/png": "[encoded data removed]",
      "text/plain": [
       "<Figure size 1080x360 with 3 Axes>"
      ]
     },
     "metadata": {
      "needs_background": "light"
     },
     "output_type": "display_data"
    }
   ],
   "source": [
    "data6 = val_cust.groupby(['churn'])['arpu_6'].mean()\n",
    "data7 = val_cust.groupby(['churn'])['arpu_7'].mean()\n",
    "data8 = val_cust.groupby(['churn'])['arpu_8'].mean()\n",
    "    \n",
    "plt.figure(figsize = (15,5))\n",
    "\n",
    "plt.subplot(131)\n",
    "plt.title('revenue Churn vs Non-Churn')\n",
    "sns.barplot(data6.index, data6.values)\n",
    "plt.ylabel('total Revenue for month 6')\n",
    "plt.ylim(0,800)\n",
    "plt.xlabel('Churn customer')\n",
    "\n",
    "\n",
    "plt.subplot(132)\n",
    "plt.title('revenue Churn vs Non-Churn')\n",
    "sns.barplot(data7.index, data7.values)\n",
    "plt.ylabel('total Revenue for month 7')\n",
    "plt.ylim(0,800)\n",
    "plt.xlabel('Churn customer')\n",
    "\n",
    "plt.subplot(133)\n",
    "plt.title('revenue Churn vs Non-Churn')\n",
    "sns.barplot(data8.index, data8.values)\n",
    "plt.ylabel('total Revenue for month 8')\n",
    "plt.ylim(0,800)\n",
    "plt.xlabel('Churn customer')\n",
    "# plot the figure.\n",
    "plt.show()"
   ]
  },
  {
   "cell_type": "code",
   "execution_count": 23,
   "metadata": {},
   "outputs": [
    {
     "data": {
      "image/png": "[encoded data removed]",
      "text/plain": [
       "<Figure size 1080x360 with 3 Axes>"
      ]
     },
     "metadata": {
      "needs_background": "light"
     },
     "output_type": "display_data"
    }
   ],
   "source": [
    "data6 = val_cust.groupby(['churn'])['loc_og_t2c_mou_6'].mean()\n",
    "data7 = val_cust.groupby(['churn'])['loc_og_t2c_mou_7'].mean()\n",
    "data8 = val_cust.groupby(['churn'])['loc_og_t2c_mou_8'].mean()\n",
    "\n",
    "#set same x,y limits for all subplots\n",
    "    \n",
    "plt.figure(figsize = (15,5))\n",
    "\n",
    "plt.subplot(131)\n",
    "plt.title('Number of Customer care call- Churn vs Non-Churn')\n",
    "sns.barplot(data6.index, data6.values)\n",
    "plt.ylabel('tCustomer care call count for month 6')\n",
    "plt.ylim(0,2.5)\n",
    "plt.xlabel('Churn customer')\n",
    "\n",
    "# 2nd Subplot shows the average amount of investment in each funding type.\n",
    "plt.subplot(132)\n",
    "#plt.title('Number of Customer care call- Churn vs Non-Churn')\n",
    "sns.barplot(data7.index, data7.values)\n",
    "plt.ylabel('Customer care call count for month 7')\n",
    "plt.ylim(0,2.5)\n",
    "plt.xlabel('Churn customer')\n",
    "\n",
    "plt.subplot(133)\n",
    "#plt.title('Number of Customer care call- Churn vs Non-Churn')\n",
    "sns.barplot(data8.index, data8.values)\n",
    "plt.ylabel('Customer care call count for month 8')\n",
    "plt.ylim(0,2.5)\n",
    "plt.xlabel('Churn customer')\n",
    "# plot the figure.\n",
    "plt.show()"
   ]
  },
  {
   "cell_type": "code",
   "execution_count": 24,
   "metadata": {},
   "outputs": [
    {
     "data": {
      "image/png": "[encoded data removed]",
      "text/plain": [
       "<Figure size 1080x360 with 3 Axes>"
      ]
     },
     "metadata": {
      "needs_background": "light"
     },
     "output_type": "display_data"
    }
   ],
   "source": [
    "data6 = val_cust.groupby(['churn'])['total_ic_mou_6'].mean()\n",
    "data7 = val_cust.groupby(['churn'])['total_ic_mou_7'].mean()\n",
    "data8 = val_cust.groupby(['churn'])['total_ic_mou_8'].mean()\n",
    "\n",
    "    \n",
    "plt.figure(figsize = (15,5))\n",
    "\n",
    "plt.subplot(131)\n",
    "plt.title('total incoming call usage- Churn vs Non-Churn')\n",
    "sns.barplot(data6.index, data6.values)\n",
    "plt.ylabel('total incoming call usage for month 6')\n",
    "plt.ylim(0,350)\n",
    "plt.xlabel('Churn customer')\n",
    "\n",
    "plt.subplot(132)\n",
    "#plt.title('Number of Customer care call- Churn vs Non-Churn')\n",
    "sns.barplot(data7.index, data7.values)\n",
    "plt.ylabel('total incoming call usage for month 7')\n",
    "plt.ylim(0,350)\n",
    "plt.xlabel('Churn customer')\n",
    "\n",
    "plt.subplot(133)\n",
    "#plt.title('Number of Customer care call- Churn vs Non-Churn')\n",
    "sns.barplot(data8.index, data8.values)\n",
    "plt.ylabel('total incoming call usage for month 8')\n",
    "plt.ylim(0,350)\n",
    "plt.xlabel('Churn customer')\n",
    "# plot the figure.\n",
    "plt.show()"
   ]
  },
  {
   "cell_type": "code",
   "execution_count": 25,
   "metadata": {},
   "outputs": [
    {
     "data": {
      "image/png": "[encoded data removed]",
      "text/plain": [
       "<Figure size 1080x360 with 3 Axes>"
      ]
     },
     "metadata": {
      "needs_background": "light"
     },
     "output_type": "display_data"
    }
   ],
   "source": [
    "data6 = val_cust.groupby(['churn'])['total_og_mou_6'].mean()\n",
    "data7 = val_cust.groupby(['churn'])['total_og_mou_7'].mean()\n",
    "data8 = val_cust.groupby(['churn'])['total_og_mou_8'].mean()\n",
    "    \n",
    "plt.figure(figsize = (15,5))\n",
    "\n",
    "plt.subplot(131)\n",
    "plt.title('total outgoing call usage- Churn vs Non-Churn')\n",
    "sns.barplot(data6.index, data6.values)\n",
    "plt.ylabel('total incoming call usage for month 6')\n",
    "plt.ylim(0,900)\n",
    "plt.xlabel('Churn customer')\n",
    "\n",
    "plt.subplot(132)\n",
    "#plt.title('Number of Customer care call- Churn vs Non-Churn')\n",
    "sns.barplot(data7.index, data7.values)\n",
    "#plt.ylabel('total outgoing call usage for month 7')\n",
    "plt.ylim(0,900)\n",
    "plt.xlabel('Churn customer')\n",
    "\n",
    "plt.subplot(133)\n",
    "#plt.title('Number of Customer care call- Churn vs Non-Churn')\n",
    "sns.barplot(data8.index, data8.values)\n",
    "#plt.ylabel('total outgoing call usage for month 8')\n",
    "plt.ylim(0,900)\n",
    "plt.xlabel('Churn customer')\n",
    "# plot the figure.\n",
    "plt.show()"
   ]
  },
  {
   "cell_type": "code",
   "execution_count": 26,
   "metadata": {},
   "outputs": [],
   "source": [
    "val_cust['net_vol_6'] = val_cust['vol_2g_mb_6']+ val_cust['vol_3g_mb_6']\n",
    "val_cust['net_vol_7'] = val_cust['vol_2g_mb_7']+ val_cust['vol_3g_mb_7']\n",
    "val_cust['net_vol_8'] = val_cust['vol_2g_mb_8']+ val_cust['vol_3g_mb_8']"
   ]
  },
  {
   "cell_type": "code",
   "execution_count": 27,
   "metadata": {},
   "outputs": [
    {
     "data": {
      "image/png": "[encoded data removed]",
      "text/plain": [
       "<Figure size 1080x360 with 3 Axes>"
      ]
     },
     "metadata": {
      "needs_background": "light"
     },
     "output_type": "display_data"
    }
   ],
   "source": [
    "data6 = val_cust.groupby(['churn'])['net_vol_6'].mean()\n",
    "data7 = val_cust.groupby(['churn'])['net_vol_7'].mean()\n",
    "data8 = val_cust.groupby(['churn'])['net_vol_8'].mean()\n",
    "\n",
    "plt.figure(figsize = (15,5))\n",
    "\n",
    "plt.subplot(131)\n",
    "plt.title('Amount data used- Churn vs Non-Churn')\n",
    "sns.barplot(data6.index, data6.values)\n",
    "plt.ylabel('Amount of data for month 6')\n",
    "plt.ylim(0,400)\n",
    "plt.xlabel('Churn customer')\n",
    "\n",
    "\n",
    "plt.subplot(132)\n",
    "#plt.title('Number of Customer care call- Churn vs Non-Churn')\n",
    "sns.barplot(data7.index, data7.values)\n",
    "#plt.ylabel('total outgoing call usage for month 7')\n",
    "plt.ylim(0,400)\n",
    "plt.xlabel('Churn customer')\n",
    "\n",
    "plt.subplot(133)\n",
    "#plt.title('Number of Customer care call- Churn vs Non-Churn')\n",
    "sns.barplot(data8.index, data8.values)\n",
    "#plt.ylabel('total outgoing call usage for month 8')\n",
    "plt.ylim(0,400)\n",
    "plt.xlabel('Churn customer')\n",
    "# plot the figure.\n",
    "plt.show()"
   ]
  },
  {
   "cell_type": "markdown",
   "metadata": {},
   "source": [
    "In the above Visualization Graph We observed that the network usage of Customer from good Phase to Action phase has significantly decreased either it is incoming Call or Outgoing Call Usage or it is Internet usage. "
   ]
  },
  {
   "cell_type": "code",
   "execution_count": 33,
   "metadata": {},
   "outputs": [],
   "source": [
    "val_cust['churn'] = val_cust['churn'].map({\"churn\":1, \"Non-Churn\":0})\n",
    "target = val_cust['churn']\n",
    "train = val_cust.drop(['churn'], axis = 1)"
   ]
  },
  {
   "cell_type": "code",
   "execution_count": 34,
   "metadata": {},
   "outputs": [
    {
     "data": {
      "text/plain": [
       "['date_of_last_rech_6',\n",
       " 'date_of_last_rech_7',\n",
       " 'date_of_last_rech_8',\n",
       " 'date_of_last_rech_data_6',\n",
       " 'date_of_last_rech_data_7',\n",
       " 'date_of_last_rech_data_8']"
      ]
     },
     "execution_count": 34,
     "metadata": {},
     "output_type": "execute_result"
    }
   ],
   "source": [
    "num_col = [col for col in train.columns if train[col].dtype != 'object']\n",
    "cat_col = [col for col in train.columns if train[col].dtype == 'object']\n",
    "cat_col"
   ]
  },
  {
   "cell_type": "code",
   "execution_count": 35,
   "metadata": {},
   "outputs": [
    {
     "name": "stdout",
     "output_type": "stream",
     "text": [
      "<class 'pandas.core.frame.DataFrame'>\n",
      "Int64Index: 29979 entries, 7 to 99997\n",
      "Data columns (total 6 columns):\n",
      "date_of_last_rech_6         29917 non-null object\n",
      "date_of_last_rech_7         29865 non-null object\n",
      "date_of_last_rech_8         29385 non-null object\n",
      "date_of_last_rech_data_6    11387 non-null object\n",
      "date_of_last_rech_data_7    11652 non-null object\n",
      "date_of_last_rech_data_8    11741 non-null object\n",
      "dtypes: object(6)\n",
      "memory usage: 1.6+ MB\n"
     ]
    }
   ],
   "source": [
    "train[cat_col].info()"
   ]
  },
  {
   "cell_type": "code",
   "execution_count": 36,
   "metadata": {},
   "outputs": [],
   "source": [
    "for col in cat_col:\n",
    "    train[col] = pd.to_datetime(train[col], format = \"%m/%d/%Y\")"
   ]
  },
  {
   "cell_type": "code",
   "execution_count": 37,
   "metadata": {},
   "outputs": [],
   "source": [
    "from datetime import datetime\n",
    "#processing the date\n",
    "#We will extract the weekday and day from each date feature \n",
    "def process_date(col):\n",
    "    train[col+'weekday'] = train[col].dt.weekday\n",
    "    train[col+'day'] = train[col].dt.day"
   ]
  },
  {
   "cell_type": "code",
   "execution_count": 38,
   "metadata": {},
   "outputs": [],
   "source": [
    "for col in cat_col:\n",
    "    process_date(col)"
   ]
  },
  {
   "cell_type": "code",
   "execution_count": 39,
   "metadata": {},
   "outputs": [],
   "source": [
    "#we have taken two columns out of each date attribute. we will drop the actual ones now\n",
    "train.drop(cat_col, axis = 1, inplace = True)"
   ]
  },
  {
   "cell_type": "code",
   "execution_count": 40,
   "metadata": {},
   "outputs": [],
   "source": [
    "cust_id = train['mobile_number']\n",
    "train.drop(['mobile_number'], axis = 1, inplace = True)"
   ]
  },
  {
   "cell_type": "code",
   "execution_count": 41,
   "metadata": {},
   "outputs": [],
   "source": [
    "#filling the null values with zero\n",
    "train.fillna(0, inplace = True)"
   ]
  },
  {
   "cell_type": "markdown",
   "metadata": {},
   "source": [
    "<h2>Feature Engineering</h2>"
   ]
  },
  {
   "cell_type": "code",
   "execution_count": 42,
   "metadata": {},
   "outputs": [
    {
     "data": {
      "text/plain": [
       "((29979, 168), (29979,))"
      ]
     },
     "execution_count": 42,
     "metadata": {},
     "output_type": "execute_result"
    }
   ],
   "source": [
    "train.shape , target.shape"
   ]
  },
  {
   "cell_type": "code",
   "execution_count": 44,
   "metadata": {},
   "outputs": [],
   "source": [
    "ic_og_features = [] #list containg all the incoming and outgoing call features\n",
    "ic_og_good_prd = [] #list containg all the incoming and outgoing call features for 6th and 7th months\n",
    "for col in train.columns:\n",
    "    if \"_ic_\" in col:\n",
    "        ic_og_features.append(col)\n",
    "    if \"_og_\" in col:\n",
    "        ic_og_features.append(col)\n",
    "for col in ic_og_features:\n",
    "    if \"_6\" in col:\n",
    "        ic_og_good_prd.append(col)\n",
    "    if \"_7\" in col:\n",
    "        ic_og_good_prd.append(col)"
   ]
  },
  {
   "cell_type": "code",
   "execution_count": 45,
   "metadata": {},
   "outputs": [],
   "source": [
    "#list describing different types of incoming and outgoing callscalls\n",
    "roam_ic_features = []\n",
    "loc_ic_features = []\n",
    "std_ic_features = []\n",
    "spl_ic_features = []\n",
    "isd_ic_features = []\n",
    "roam_og_features = []\n",
    "loc_og_features = []\n",
    "std_og_features = []\n",
    "spl_og_features = []\n",
    "isd_og_features = []\n",
    "for col in ic_og_good_prd:\n",
    "    if \"roam_ic_\" in col:\n",
    "        roam_ic_features.append(col)\n",
    "    if \"loc_ic_\" in col:\n",
    "        loc_ic_features.append(col)\n",
    "    if \"std_ic_\" in col:\n",
    "        std_ic_features.append(col)\n",
    "    if \"spl_ic_\" in col:\n",
    "        spl_ic_features.append(col)\n",
    "    if \"isd_ic_\" in col:\n",
    "        isd_ic_features.append(col)\n",
    "    if \"roam_og_\" in col:\n",
    "        roam_og_features.append(col)\n",
    "    if \"loc_og_\" in col:\n",
    "        loc_og_features.append(col)\n",
    "    if \"std_og_\" in col:\n",
    "        std_og_features.append(col)\n",
    "    if \"spl_og_\" in col:\n",
    "        spl_og_features.append(col)\n",
    "    if \"isd_og_\" in col:\n",
    "        isd_og_features.append(col)"
   ]
  },
  {
   "cell_type": "code",
   "execution_count": 46,
   "metadata": {},
   "outputs": [],
   "source": [
    "#totaling different kinds of incoming and outgoing calls \n",
    "train['total_roam_ic'] = 0\n",
    "for col in roam_ic_features:\n",
    "    train['total_roam_ic'] += train[col]\n",
    "    \n",
    "train['total_loc_ic'] = 0\n",
    "for col in loc_ic_features:\n",
    "    train['total_loc_ic'] += train[col]\n",
    "    \n",
    "train['total_std_ic'] = 0\n",
    "for col in std_ic_features:\n",
    "    train['total_std_ic'] += train[col]\n",
    "    \n",
    "train['total_spl_ic'] = 0\n",
    "for col in spl_ic_features:\n",
    "    train['total_spl_ic'] += train[col]\n",
    "    \n",
    "train['total_isd_ic'] = 0\n",
    "for col in isd_ic_features:\n",
    "    train['total_isd_ic'] += train[col]\n",
    "\n",
    "train['total_roam_og'] = 0\n",
    "for col in roam_og_features:\n",
    "    train['total_roam_og'] += train[col]\n",
    "    \n",
    "train['total_loc_og'] = 0\n",
    "for col in loc_og_features:\n",
    "    train['total_loc_og'] += train[col]\n",
    "    \n",
    "train['total_std_og'] = 0\n",
    "for col in std_og_features:\n",
    "    train['total_std_og'] += train[col]\n",
    "    \n",
    "train['total_spl_og'] = 0\n",
    "for col in spl_og_features:\n",
    "    train['total_spl_og'] += train[col]\n",
    "    \n",
    "train['total_isd_og'] = 0\n",
    "for col in isd_og_features:\n",
    "    train['total_isd_og'] += train[col]"
   ]
  },
  {
   "cell_type": "code",
   "execution_count": 47,
   "metadata": {},
   "outputs": [],
   "source": [
    "train['night_pck_good_prd'] = (train['night_pck_user_6']==1) & (train['night_pck_user_7']==1)# yes is night pack user for both good pahse months\n",
    "train['fb_good_prd'] = (train['fb_user_6']==1) & (train['fb_user_7']==1) # if its a fb pack user in both month\n",
    "train['night_nd_fb_user']  = train['night_pck_good_prd'] & train['fb_good_prd'] #if its both fb and night pack user"
   ]
  },
  {
   "cell_type": "code",
   "execution_count": 48,
   "metadata": {},
   "outputs": [],
   "source": [
    "train['night_pck_good_prd'] = train['night_pck_good_prd'].map({True:1, False:0})\n",
    "train['fb_good_prd'] = train['fb_good_prd'].map({True:1, False:0})\n",
    "train['night_nd_fb_user'] = train['night_nd_fb_user'].map({True:1, False:0})"
   ]
  },
  {
   "cell_type": "code",
   "execution_count": 49,
   "metadata": {},
   "outputs": [],
   "source": [
    "train['avg_rech_amt_per'] = train['total_rech_amt']\n",
    "del train['total_rech_amt']"
   ]
  },
  {
   "cell_type": "code",
   "execution_count": 50,
   "metadata": {},
   "outputs": [],
   "source": [
    "train['total_rech_num'] = train['total_rech_num_6'] + train['total_rech_num_7'] #total rech number for good phase\n",
    "train['total_rech_data'] = train['total_rech_data_6'] + train['total_rech_data_7']#total rech data for good phase\n",
    "train['total_count_rech_2g'] = train['count_rech_2g_6'] + train['count_rech_2g_7']#2g Rech counts for good phase\n",
    "train['total_count_rech_3g'] = train['count_rech_3g_6'] + train['count_rech_3g_7']#3g Rech count for good phase\n",
    "train['avg_rech_data'] = train['av_rech_amt_data_6'] + train['av_rech_amt_data_7']#average reacharge amount for 2 months"
   ]
  },
  {
   "cell_type": "code",
   "execution_count": 51,
   "metadata": {},
   "outputs": [],
   "source": [
    "#total amount of internet used for each months\n",
    "train['net_vol_6'] = train['vol_2g_mb_6']+ train['vol_3g_mb_6']\n",
    "train['net_vol_7'] = train['vol_2g_mb_7']+ train['vol_3g_mb_7']\n",
    "train['net_vol_8'] = train['vol_2g_mb_8']+ train['vol_3g_mb_8']"
   ]
  },
  {
   "cell_type": "code",
   "execution_count": 52,
   "metadata": {},
   "outputs": [],
   "source": [
    "#total number of calls to customer care in good pahse\n",
    "train['total_call_to_CC'] = train['loc_og_t2c_mou_6'] + train['loc_og_t2c_mou_7']"
   ]
  },
  {
   "cell_type": "code",
   "execution_count": 214,
   "metadata": {},
   "outputs": [
    {
     "data": {
      "text/plain": [
       "(29979, 186)"
      ]
     },
     "execution_count": 214,
     "metadata": {},
     "output_type": "execute_result"
    }
   ],
   "source": [
    "train.shape"
   ]
  },
  {
   "cell_type": "markdown",
   "metadata": {},
   "source": [
    "<h3>Feature Selection Using RFE</h3>"
   ]
  },
  {
   "cell_type": "code",
   "execution_count": 152,
   "metadata": {},
   "outputs": [],
   "source": [
    "#Splitting the data in train and test data\n",
    "x_train, x_test, y_train, y_test = train_test_split(train, target, test_size = 0.3, random_state = 100)"
   ]
  },
  {
   "cell_type": "code",
   "execution_count": 153,
   "metadata": {},
   "outputs": [],
   "source": [
    "from sklearn.feature_selection import RFE\n",
    "logreg = LogisticRegression(random_state=2)\n",
    "rfe = RFE(logreg, 100)   #out of 186 attribute we will select the top 100 attributes for the modeling.          \n",
    "rfe = rfe.fit(x_train, y_train)"
   ]
  },
  {
   "cell_type": "code",
   "execution_count": 164,
   "metadata": {},
   "outputs": [
    {
     "data": {
      "text/plain": [
       "Index(['onnet_mou_8', 'offnet_mou_8', 'roam_og_mou_8', 'loc_og_t2t_mou_7',\n",
       "       'loc_og_t2t_mou_8', 'loc_og_t2m_mou_7', 'loc_og_t2m_mou_8',\n",
       "       'loc_og_t2f_mou_6', 'loc_og_t2f_mou_7', 'loc_og_t2f_mou_8',\n",
       "       'loc_og_t2c_mou_8', 'loc_og_mou_6', 'loc_og_mou_8', 'std_og_t2t_mou_8',\n",
       "       'std_og_t2m_mou_8', 'std_og_t2f_mou_8', 'std_og_mou_6', 'std_og_mou_7',\n",
       "       'std_og_mou_8', 'isd_og_mou_7', 'isd_og_mou_8', 'spl_og_mou_6',\n",
       "       'spl_og_mou_7', 'spl_og_mou_8', 'og_others_6', 'og_others_7',\n",
       "       'og_others_8', 'total_og_mou_6', 'total_og_mou_7', 'total_og_mou_8',\n",
       "       'loc_ic_t2t_mou_7', 'loc_ic_t2t_mou_8', 'loc_ic_t2m_mou_7',\n",
       "       'loc_ic_t2m_mou_8', 'loc_ic_t2f_mou_7', 'loc_ic_t2f_mou_8',\n",
       "       'loc_ic_mou_6', 'loc_ic_mou_8', 'std_ic_t2t_mou_6', 'std_ic_t2t_mou_8',\n",
       "       'std_ic_t2m_mou_6', 'std_ic_t2m_mou_8', 'std_ic_t2f_mou_6',\n",
       "       'std_ic_t2f_mou_7', 'std_ic_mou_7', 'std_ic_mou_8', 'total_ic_mou_7',\n",
       "       'total_ic_mou_8', 'spl_ic_mou_6', 'spl_ic_mou_7', 'spl_ic_mou_8',\n",
       "       'isd_ic_mou_6', 'isd_ic_mou_7', 'isd_ic_mou_8', 'ic_others_8',\n",
       "       'total_rech_num_8', 'last_day_rch_amt_8', 'total_rech_data_8',\n",
       "       'count_rech_2g_6', 'count_rech_2g_7', 'count_rech_2g_8',\n",
       "       'count_rech_3g_8', 'night_pck_user_6', 'night_pck_user_7',\n",
       "       'night_pck_user_8', 'monthly_2g_6', 'monthly_2g_7', 'monthly_2g_8',\n",
       "       'sachet_2g_6', 'sachet_2g_7', 'sachet_2g_8', 'monthly_3g_6',\n",
       "       'monthly_3g_7', 'monthly_3g_8', 'sachet_3g_6', 'sachet_3g_7',\n",
       "       'sachet_3g_8', 'fb_user_7', 'fb_user_8', 'date_of_last_rech_6weekday',\n",
       "       'date_of_last_rech_6day', 'date_of_last_rech_7day',\n",
       "       'date_of_last_rech_8weekday', 'date_of_last_rech_8day',\n",
       "       'date_of_last_rech_data_6weekday', 'date_of_last_rech_data_8weekday',\n",
       "       'date_of_last_rech_data_8day', 'total_loc_ic', 'total_spl_ic',\n",
       "       'total_isd_ic', 'total_loc_og', 'total_std_og', 'total_spl_og',\n",
       "       'total_isd_og', 'night_pck_good_prd', 'fb_good_prd', 'night_nd_fb_user',\n",
       "       'total_rech_num', 'total_count_rech_2g', 'total_call_to_CC'],\n",
       "      dtype='object')"
      ]
     },
     "execution_count": 164,
     "metadata": {},
     "output_type": "execute_result"
    }
   ],
   "source": [
    "col = x_train.columns[rfe.support_] \n",
    "col"
   ]
  },
  {
   "cell_type": "code",
   "execution_count": 155,
   "metadata": {},
   "outputs": [],
   "source": [
    "x_test = x_test[col]\n",
    "x_train = x_train[col]"
   ]
  },
  {
   "cell_type": "code",
   "execution_count": 166,
   "metadata": {},
   "outputs": [],
   "source": [
    "#scaling the data\n",
    "scaler = StandardScaler()\n",
    "scaler.fit(x_train2)\n",
    "x_train = scaler.transform(x_train)\n",
    "x_test = scaler.transform(x_test)"
   ]
  },
  {
   "cell_type": "code",
   "execution_count": 212,
   "metadata": {},
   "outputs": [
    {
     "data": {
      "text/plain": [
       "((20985, 100), (8994, 100))"
      ]
     },
     "execution_count": 212,
     "metadata": {},
     "output_type": "execute_result"
    }
   ],
   "source": [
    "x_train.shape, x_test.shape"
   ]
  },
  {
   "cell_type": "code",
   "execution_count": 167,
   "metadata": {},
   "outputs": [
    {
     "data": {
      "text/plain": [
       "(20985, 43)"
      ]
     },
     "execution_count": 167,
     "metadata": {},
     "output_type": "execute_result"
    }
   ],
   "source": [
    "#lets do PCA and do the dimensionality reduction. It will also remove the Multi-Collinearity\n",
    "pca = PCA(0.90, random_state=100)\n",
    "train_pca = pca.fit_transform(x_train)\n",
    "train_pca.shape"
   ]
  },
  {
   "cell_type": "code",
   "execution_count": 168,
   "metadata": {},
   "outputs": [
    {
     "data": {
      "text/plain": [
       "(8994, 43)"
      ]
     },
     "execution_count": 168,
     "metadata": {},
     "output_type": "execute_result"
    }
   ],
   "source": [
    "test_pca = pca.transform(x_test)\n",
    "test_pca.shape"
   ]
  },
  {
   "cell_type": "code",
   "execution_count": 213,
   "metadata": {},
   "outputs": [
    {
     "data": {
      "text/plain": [
       "((20985, 43), (8994, 43))"
      ]
     },
     "execution_count": 213,
     "metadata": {},
     "output_type": "execute_result"
    }
   ],
   "source": [
    "train_pca.shape, test_pca.shape"
   ]
  },
  {
   "cell_type": "markdown",
   "metadata": {},
   "source": [
    "So we have done the dimensionality reduction from <b>100 features to just 43 principal components</b> at the penalty of 10 percent data variance loss. But we have reduce the computation cost"
   ]
  },
  {
   "cell_type": "markdown",
   "metadata": {},
   "source": [
    "<h2>Modelling</h2>"
   ]
  },
  {
   "cell_type": "code",
   "execution_count": 173,
   "metadata": {},
   "outputs": [
    {
     "name": "stdout",
     "output_type": "stream",
     "text": [
      "Precision Score 0.651685393258427 Recall Score 0.2846625766871166 Accuracy Score 0.9213920391372026\n"
     ]
    }
   ],
   "source": [
    "#Fitting default Logistic Regression\n",
    "lgr = LogisticRegression(random_state=2)\n",
    "lgr.fit(train_pca, y_train)\n",
    "\n",
    "y_pred_lgr = lgr.predict(test_pca)\n",
    "print(\"Precision Score\", precision_score(y_test, y_pred_lgr ), \"Recall Score\", recall_score(y_test, y_pred_lgr), \n",
    "      \"Accuracy Score\", accuracy_score(y_test, y_pred_lgr))"
   ]
  },
  {
   "cell_type": "code",
   "execution_count": 174,
   "metadata": {},
   "outputs": [
    {
     "name": "stdout",
     "output_type": "stream",
     "text": [
      "Precision Score 0.6523605150214592 Recall Score 0.18650306748466258 Accuracy Score 0.9172781854569713\n"
     ]
    }
   ],
   "source": [
    "#fitting the default Random Forest Classifier\n",
    "rf = RandomForestClassifier(random_state=2)\n",
    "rf.fit(train_pca, y_train)\n",
    "\n",
    "y_pred_rf = rf.predict(test_pca)\n",
    "print(\"Precision Score\", precision_score(y_test, y_pred_rf ), \"Recall Score\", recall_score(y_test, y_pred_rf),\n",
    "      \"Accuracy Score\", accuracy_score(y_test, y_pred_rf))"
   ]
  },
  {
   "cell_type": "code",
   "execution_count": 175,
   "metadata": {},
   "outputs": [
    {
     "name": "stdout",
     "output_type": "stream",
     "text": [
      "Precision Score 0.7005988023952096 Recall Score 0.2871165644171779 Accuracy Score 0.9242828552368245\n"
     ]
    }
   ],
   "source": [
    "#fitting the default Support Vector Classifier\n",
    "svc = SVC(random_state=2)\n",
    "svc.fit(train_pca, y_train)\n",
    "\n",
    "y_pred_svc = svc.predict(test_pca)\n",
    "print(\"Precision Score\", precision_score(y_test, y_pred_svc ), \"Recall Score\", recall_score(y_test, y_pred_svc),\n",
    "      \"Accuracy Score\", accuracy_score(y_test, y_pred_svc))"
   ]
  },
  {
   "cell_type": "code",
   "execution_count": 176,
   "metadata": {},
   "outputs": [
    {
     "data": {
      "text/plain": [
       "GaussianNB(priors=None)"
      ]
     },
     "execution_count": 176,
     "metadata": {},
     "output_type": "execute_result"
    }
   ],
   "source": [
    "#Using the Naive bayes Classifier\n",
    "from sklearn.naive_bayes import GaussianNB\n",
    "gnb = GaussianNB()\n",
    "gnb.fit(train_pca, y_train)"
   ]
  },
  {
   "cell_type": "code",
   "execution_count": 177,
   "metadata": {},
   "outputs": [
    {
     "name": "stdout",
     "output_type": "stream",
     "text": [
      "Precision Score 0.14897739504843918 Recall Score 0.849079754601227 Accuracy Score 0.5468089837669557\n"
     ]
    }
   ],
   "source": [
    "y_pred_gnb = gnb.predict(test_pca)\n",
    "print(\"Precision Score\", precision_score(y_test, y_pred_gnb), \"Recall Score\", recall_score(y_test, y_pred_gnb), \n",
    "      \"Accuracy Score\", accuracy_score(y_test, y_pred_gnb))"
   ]
  },
  {
   "cell_type": "code",
   "execution_count": 178,
   "metadata": {},
   "outputs": [],
   "source": [
    "evl_df = pd.DataFrame({'algo':['logreg','rf','svc', 'gnb'],'accuracy':[accuracy_score(y_test,y_pred_lgr), \n",
    "                                                                       accuracy_score(y_test,y_pred_rf),\n",
    "                                                                       accuracy_score(y_test,y_pred_svc),\n",
    "                                                                       accuracy_score(y_test, y_pred_gnb)]})"
   ]
  },
  {
   "cell_type": "code",
   "execution_count": 179,
   "metadata": {},
   "outputs": [
    {
     "data": {
      "text/html": [
       "<div>\n",
       "<style scoped>\n",
       "    .dataframe tbody tr th:only-of-type {\n",
       "        vertical-align: middle;\n",
       "    }\n",
       "\n",
       "    .dataframe tbody tr th {\n",
       "        vertical-align: top;\n",
       "    }\n",
       "\n",
       "    .dataframe thead th {\n",
       "        text-align: right;\n",
       "    }\n",
       "</style>\n",
       "<table border=\"1\" class=\"dataframe\">\n",
       "  <thead>\n",
       "    <tr style=\"text-align: right;\">\n",
       "      <th></th>\n",
       "      <th>algo</th>\n",
       "      <th>accuracy</th>\n",
       "      <th>precision</th>\n",
       "      <th>recall</th>\n",
       "    </tr>\n",
       "  </thead>\n",
       "  <tbody>\n",
       "    <tr>\n",
       "      <th>0</th>\n",
       "      <td>logreg</td>\n",
       "      <td>0.921392</td>\n",
       "      <td>0.651685</td>\n",
       "      <td>0.284663</td>\n",
       "    </tr>\n",
       "    <tr>\n",
       "      <th>1</th>\n",
       "      <td>rf</td>\n",
       "      <td>0.917278</td>\n",
       "      <td>0.652361</td>\n",
       "      <td>0.186503</td>\n",
       "    </tr>\n",
       "    <tr>\n",
       "      <th>2</th>\n",
       "      <td>svc</td>\n",
       "      <td>0.924283</td>\n",
       "      <td>0.700599</td>\n",
       "      <td>0.287117</td>\n",
       "    </tr>\n",
       "    <tr>\n",
       "      <th>3</th>\n",
       "      <td>gnb</td>\n",
       "      <td>0.546809</td>\n",
       "      <td>0.148977</td>\n",
       "      <td>0.849080</td>\n",
       "    </tr>\n",
       "  </tbody>\n",
       "</table>\n",
       "</div>"
      ],
      "text/plain": [
       "     algo  accuracy  precision    recall\n",
       "0  logreg  0.921392   0.651685  0.284663\n",
       "1      rf  0.917278   0.652361  0.186503\n",
       "2     svc  0.924283   0.700599  0.287117\n",
       "3     gnb  0.546809   0.148977  0.849080"
      ]
     },
     "execution_count": 179,
     "metadata": {},
     "output_type": "execute_result"
    }
   ],
   "source": [
    "evl_df['precision'] = pd.Series([precision_score(y_test,y_pred_lgr), precision_score(y_test,y_pred_rf),precision_score(y_test,y_pred_svc),precision_score(y_test, y_pred_gnb)])\n",
    "evl_df['recall'] = pd.Series([recall_score(y_test,y_pred_lgr), recall_score(y_test,y_pred_rf),recall_score(y_test,y_pred_svc),recall_score(y_test, y_pred_gnb)])\n",
    "evl_df.head()"
   ]
  },
  {
   "cell_type": "markdown",
   "metadata": {},
   "source": [
    "For large data support vectors will be very slow and we will not be able to converge due to the limited resource we have. So We wont move further with SVC model.\n",
    "For Gaussian Naive Bayes model, the recall is really good that is 85% which means its able to identify more number of customer which are churned. But on the other hand the accuracy and precision is very low as compared to other models which means it is wrongly identifying more number of Non-Churned customer as Churned.\n",
    "\n",
    "<h4>Therefore, we will choose Logistic Regression and Random Forest algorithm, which have far better accuracy and reasonable Recall and we will try to hypertune them considering scoring as RECALL</h4>"
   ]
  },
  {
   "cell_type": "markdown",
   "metadata": {},
   "source": [
    "We are using RECALL as an deciding evaluation metric because Recall is the True Positive Rate and it tries to minimize False negative (Churn classified as Non-Churn) and maximize the True Positive (Churn Classified as churn). This will help company to put the advertisments and spending to thr right customer."
   ]
  },
  {
   "cell_type": "code",
   "execution_count": 180,
   "metadata": {},
   "outputs": [
    {
     "name": "stdout",
     "output_type": "stream",
     "text": [
      "Fitting 5 folds for each of 6 candidates, totalling 30 fits\n"
     ]
    },
    {
     "name": "stderr",
     "output_type": "stream",
     "text": [
      "[Parallel(n_jobs=1)]: Done  30 out of  30 | elapsed:   12.4s finished\n"
     ]
    },
    {
     "data": {
      "text/plain": [
       "GridSearchCV(cv=KFold(n_splits=5, random_state=2, shuffle=True),\n",
       "       error_score='raise',\n",
       "       estimator=LogisticRegression(C=1.0, class_weight=None, dual=False, fit_intercept=True,\n",
       "          intercept_scaling=1, max_iter=100, multi_class='ovr', n_jobs=1,\n",
       "          penalty='l2', random_state=2, solver='liblinear', tol=0.0001,\n",
       "          verbose=0, warm_start=False),\n",
       "       fit_params=None, iid=True, n_jobs=1,\n",
       "       param_grid=[{'C': [0.001, 0.01, 0.1, 1, 10, 100]}],\n",
       "       pre_dispatch='2*n_jobs', refit=True, return_train_score=True,\n",
       "       scoring='recall', verbose=1)"
      ]
     },
     "execution_count": 180,
     "metadata": {},
     "output_type": "execute_result"
    }
   ],
   "source": [
    "#lets hypertune the Logistic Regression using GridSearchCV\n",
    "from sklearn.model_selection import KFold\n",
    "folds = KFold(n_splits = 5, shuffle = True, random_state=2)\n",
    "params = [{'C':[0.001, 0.01, 0.1, 1, 10, 100]}]\n",
    "logreg = LogisticRegression(random_state=2)\n",
    "GridSearch = GridSearchCV(logreg, params, scoring = 'recall',cv=folds, verbose=1, return_train_score=True)\n",
    "GridSearch.fit(train_pca, y_train)"
   ]
  },
  {
   "cell_type": "code",
   "execution_count": 181,
   "metadata": {},
   "outputs": [
    {
     "name": "stdout",
     "output_type": "stream",
     "text": [
      "The best C value is:  {'C': 10}\n",
      "The best Recall Value is:  0.27592375577176476\n"
     ]
    }
   ],
   "source": [
    "print(\"The best C value is: \",GridSearch.best_params_)\n",
    "print(\"The best Recall Value is: \",GridSearch.best_score_)"
   ]
  },
  {
   "cell_type": "code",
   "execution_count": 182,
   "metadata": {},
   "outputs": [
    {
     "name": "stdout",
     "output_type": "stream",
     "text": [
      "Precision Score 0.6526610644257703 Recall Score 0.28588957055214725 Accuracy Score 0.9215032243718034\n"
     ]
    }
   ],
   "source": [
    "logreg = LogisticRegression(C = 10, random_state=2)\n",
    "logreg.fit(train_pca,y_train)\n",
    "\n",
    "y_pred_lr = logreg.predict(test_pca)\n",
    "print(\"Precision Score\", precision_score(y_test, y_pred_lr ), \"Recall Score\", recall_score(y_test, y_pred_lr), \n",
    "      \"Accuracy Score\", accuracy_score(y_test, y_pred_lr))"
   ]
  },
  {
   "cell_type": "code",
   "execution_count": 183,
   "metadata": {},
   "outputs": [
    {
     "name": "stdout",
     "output_type": "stream",
     "text": [
      "Train Accuracy :  0.9254705742196807\n"
     ]
    }
   ],
   "source": [
    "#Lets see if the model has overfit. Looking at the difference between train and test accuracy not much difference\n",
    "y_pred_train = logreg.predict(train_pca)\n",
    "print(\"Train Accuracy : \", accuracy_score(y_train, y_pred_train))"
   ]
  },
  {
   "cell_type": "code",
   "execution_count": 184,
   "metadata": {},
   "outputs": [
    {
     "data": {
      "text/plain": [
       "array([0.92472606, 0.92613772, 0.92709078, 0.92518466, 0.9249285 ])"
      ]
     },
     "execution_count": 184,
     "metadata": {},
     "output_type": "execute_result"
    }
   ],
   "source": [
    "#after seeing the test accuracy and train accuracy, it doesn't seem that the model has Overfit\n",
    "#lets check it through Cross-Validation\n",
    "score = cross_val_score(logreg, x_train, y_train, scoring = \"accuracy\", cv = 5)\n",
    "score"
   ]
  },
  {
   "cell_type": "markdown",
   "metadata": {},
   "source": [
    "The train accuracy of the cross validation score over five fold is almost same... So the model is not overfitting."
   ]
  },
  {
   "cell_type": "code",
   "execution_count": 185,
   "metadata": {},
   "outputs": [
    {
     "data": {
      "text/plain": [
       "BaggingClassifier(base_estimator=LogisticRegression(C=10, class_weight=None, dual=False, fit_intercept=True,\n",
       "          intercept_scaling=1, max_iter=100, multi_class='ovr', n_jobs=1,\n",
       "          penalty='l2', random_state=2, solver='liblinear', tol=0.0001,\n",
       "          verbose=0, warm_start=False),\n",
       "         bootstrap=True, bootstrap_features=False, max_features=1.0,\n",
       "         max_samples=100, n_estimators=30, n_jobs=-1, oob_score=False,\n",
       "         random_state=None, verbose=0, warm_start=False)"
      ]
     },
     "execution_count": 185,
     "metadata": {},
     "output_type": "execute_result"
    }
   ],
   "source": [
    "#Handling Class Imbalance problem, We are using Bagging technique to address the problem\n",
    "from sklearn.ensemble import BaggingClassifier\n",
    "\n",
    "bg_clf = BaggingClassifier(logreg, n_estimators = 30, max_samples = 100, n_jobs = -1,\n",
    "                          bootstrap = True)\n",
    "bg_clf.fit(train_pca, y_train)"
   ]
  },
  {
   "cell_type": "code",
   "execution_count": 186,
   "metadata": {},
   "outputs": [
    {
     "name": "stdout",
     "output_type": "stream",
     "text": [
      "Precision Score 0.5684410646387833 Recall Score 0.36687116564417177 Accuracy Score 0.9173893706915721\n"
     ]
    }
   ],
   "source": [
    "y_pred_lr =bg_clf.predict(test_pca)\n",
    "print(\"Precision Score\", precision_score(y_test, y_pred_lr ), \"Recall Score\", recall_score(y_test, y_pred_lr), \n",
    "      \"Accuracy Score\", accuracy_score(y_test, y_pred_lr))"
   ]
  },
  {
   "cell_type": "code",
   "execution_count": 187,
   "metadata": {},
   "outputs": [
    {
     "data": {
      "image/png": "[encoded data removed]",
      "text/plain": [
       "<Figure size 432x288 with 1 Axes>"
      ]
     },
     "metadata": {
      "needs_background": "light"
     },
     "output_type": "display_data"
    }
   ],
   "source": [
    "#lets do the AUC-ROC curve for the model\n",
    "probs = bg_clf.predict_proba(test_pca)\n",
    "preds = probs[:,1]\n",
    "fpr, tpr, threshold = roc_curve(y_test, preds)\n",
    "roc_auc = auc(fpr, tpr)\n",
    "\n",
    "plt.title('Receiver Operating Characteristic')\n",
    "plt.plot(fpr, tpr, 'b', label = 'AUC = %0.2f' % roc_auc)\n",
    "plt.legend(loc = 'lower right')\n",
    "plt.plot([0, 1], [0, 1],'r--')\n",
    "plt.xlim([0, 1])\n",
    "plt.ylim([0, 1])\n",
    "plt.ylabel('True Positive Rate')\n",
    "plt.xlabel('False Positive Rate')\n",
    "plt.show()"
   ]
  },
  {
   "cell_type": "markdown",
   "metadata": {},
   "source": [
    "That's a Good sign about the model, The Area Under the Curve (AUC) is 0.88 which is quite good."
   ]
  },
  {
   "cell_type": "code",
   "execution_count": 188,
   "metadata": {},
   "outputs": [
    {
     "data": {
      "image/png": "[encoded data removed]",
      "text/plain": [
       "<Figure size 432x288 with 1 Axes>"
      ]
     },
     "metadata": {
      "needs_background": "light"
     },
     "output_type": "display_data"
    }
   ],
   "source": [
    "#Lets check the Precision-Recall trade-off and find out the optimal threshold\n",
    "from sklearn.metrics import precision_recall_curve\n",
    "churn_df = pd.DataFrame({'churn':y_test.values,'pred_prob':bg_clf.predict_proba(test_pca)[:,1],'y_pred':bg_clf.predict(test_pca)})\n",
    "\n",
    "p, r, thresholds = precision_recall_curve(churn_df.churn, churn_df.pred_prob)\n",
    "\n",
    "plt.plot(thresholds, p[:-1], \"g-\")\n",
    "plt.plot(thresholds, r[:-1], \"r-\")\n",
    "plt.show()\n"
   ]
  },
  {
   "cell_type": "code",
   "execution_count": 189,
   "metadata": {},
   "outputs": [
    {
     "name": "stdout",
     "output_type": "stream",
     "text": [
      "Precision Score:  0.5012106537530266 Recall Score:  0.5079754601226993\n",
      "Accuracy Score: 0.909606404269513\n"
     ]
    }
   ],
   "source": [
    "churn_df['final_pred'] = churn_df.pred_prob.map(lambda x: 1 if x > 0.416 else 0)\n",
    "\n",
    "print(\"Precision Score: \", precision_score(churn_df['churn'], churn_df['final_pred'] ), \"Recall Score: \", \n",
    "      recall_score(churn_df['churn'],churn_df['final_pred']))\n",
    "\n",
    "print(\"Accuracy Score:\", accuracy_score(churn_df['churn'], churn_df['final_pred']))"
   ]
  },
  {
   "cell_type": "code",
   "execution_count": 191,
   "metadata": {},
   "outputs": [
    {
     "data": {
      "text/plain": [
       "GridSearchCV(cv=KFold(n_splits=5, random_state=2, shuffle=True),\n",
       "       error_score='raise',\n",
       "       estimator=RandomForestClassifier(bootstrap=True, class_weight=None, criterion='gini',\n",
       "            max_depth=None, max_features='auto', max_leaf_nodes=None,\n",
       "            min_impurity_decrease=0.0, min_impurity_split=None,\n",
       "            min_samples_leaf=1, min_samples_split=2,\n",
       "            min_weight_fraction_leaf=0.0, n_estimators=10, n_jobs=1,\n",
       "            oob_score=False, random_state=2, verbose=0, warm_start=False),\n",
       "       fit_params=None, iid=True, n_jobs=-1,\n",
       "       param_grid=[{'n_estimators': [15, 25, 35], 'max_features': [15, 25, 35], 'max_depth': [40, 50, 60]}],\n",
       "       pre_dispatch='2*n_jobs', refit=True, return_train_score='warn',\n",
       "       scoring='recall', verbose=0)"
      ]
     },
     "execution_count": 191,
     "metadata": {},
     "output_type": "execute_result"
    }
   ],
   "source": [
    "#Now Lets Tune the Random Forest classifier and check if we are able to get higher Recall Value\n",
    "param_grid = [\n",
    "{'n_estimators': [15, 25, 35], 'max_features': [15, 25, 35], \n",
    " 'max_depth': [40,50,60]}\n",
    "]\n",
    "\n",
    "grid_search_forest = GridSearchCV(rf, param_grid, cv=folds, scoring='recall',n_jobs= -1)\n",
    "grid_search_forest.fit(train_pca, y_train)"
   ]
  },
  {
   "cell_type": "code",
   "execution_count": 192,
   "metadata": {},
   "outputs": [
    {
     "name": "stdout",
     "output_type": "stream",
     "text": [
      "The best C value is:  {'max_depth': 40, 'max_features': 35, 'n_estimators': 25}\n",
      "The best Recall Value is:  0.3141351625263278\n"
     ]
    }
   ],
   "source": [
    "print(\"The best C value is: \",grid_search_forest.best_params_)\n",
    "print(\"The best Recall Value is: \",grid_search_forest.best_score_)"
   ]
  },
  {
   "cell_type": "code",
   "execution_count": 194,
   "metadata": {},
   "outputs": [
    {
     "name": "stdout",
     "output_type": "stream",
     "text": [
      "Precision Score 0.6780104712041884 Recall Score 0.3177914110429448 Accuracy Score 0.9245052257060262\n"
     ]
    }
   ],
   "source": [
    "#we have kept bootstrap =True, which will enable Bagging. Bagging tackles Class imbalance Problem.\n",
    "GS_rf = RandomForestClassifier(n_estimators=25,max_depth=40, max_features = 35,bootstrap=True, random_state=2)\n",
    "GS_rf.fit(train_pca,y_train)\n",
    "\n",
    "y_pred_rf = GS_rf.predict(test_pca)\n",
    "print(\"Precision Score\", precision_score(y_test, y_pred_rf ), \"Recall Score\", recall_score(y_test, y_pred_rf), \n",
    "      \"Accuracy Score\", accuracy_score(y_test, y_pred_rf))"
   ]
  },
  {
   "cell_type": "code",
   "execution_count": 195,
   "metadata": {},
   "outputs": [
    {
     "name": "stdout",
     "output_type": "stream",
     "text": [
      "Train Accuracy :  0.998522754348344\n"
     ]
    }
   ],
   "source": [
    "#Lets see the model has overfit. The Train Accuracy is has not very big difference than the test accuracy.\n",
    "#so, its good. Looks like model is not overfittig\n",
    "y_pred_train_rf = GS_rf.predict(train_pca)\n",
    "print(\"Train Accuracy : \", accuracy_score(y_train, y_pred_train_rf)) "
   ]
  },
  {
   "cell_type": "code",
   "execution_count": 196,
   "metadata": {},
   "outputs": [
    {
     "data": {
      "text/plain": [
       "array([0.93854216, 0.93757446, 0.94162497, 0.94615201, 0.94447092])"
      ]
     },
     "execution_count": 196,
     "metadata": {},
     "output_type": "execute_result"
    }
   ],
   "source": [
    "#after seeing the test accuracy and train accuracy, it doesn't seem that the model has Overfit\n",
    "#lets check it through Cross-Validation\n",
    "score = cross_val_score(GS_rf, x_train, y_train, scoring = \"accuracy\", cv = 5)\n",
    "score"
   ]
  },
  {
   "cell_type": "code",
   "execution_count": 197,
   "metadata": {},
   "outputs": [
    {
     "data": {
      "image/png": "[encoded data removed]",
      "text/plain": [
       "<Figure size 432x288 with 1 Axes>"
      ]
     },
     "metadata": {
      "needs_background": "light"
     },
     "output_type": "display_data"
    }
   ],
   "source": [
    "#lets do the AUC-ROC curve for the model\n",
    "probs = GS_rf.predict_proba(test_pca)\n",
    "preds = probs[:,1]\n",
    "fpr, tpr, threshold = roc_curve(y_test, preds)\n",
    "roc_auc = auc(fpr, tpr)\n",
    "\n",
    "plt.title('Receiver Operating Characteristic')\n",
    "plt.plot(fpr, tpr, 'b', label = 'AUC = %0.2f' % roc_auc)\n",
    "plt.legend(loc = 'lower right')\n",
    "plt.plot([0, 1], [0, 1],'r--')\n",
    "plt.xlim([0, 1])\n",
    "plt.ylim([0, 1])\n",
    "plt.ylabel('True Positive Rate')\n",
    "plt.xlabel('False Positive Rate')\n",
    "plt.show()"
   ]
  },
  {
   "cell_type": "code",
   "execution_count": 198,
   "metadata": {},
   "outputs": [
    {
     "data": {
      "image/png": "[encoded data removed]",
      "text/plain": [
       "<Figure size 432x288 with 1 Axes>"
      ]
     },
     "metadata": {
      "needs_background": "light"
     },
     "output_type": "display_data"
    }
   ],
   "source": [
    "#Lets check the Precision-Recall trade-off and find out the optimal threshold\n",
    "from sklearn.metrics import precision_recall_curve\n",
    "churn_df = pd.DataFrame({'churn':y_test.values,'pred_prob':GS_rf.predict_proba(test_pca)[:,1],'y_pred':GS_rf.predict(test_pca)})\n",
    "\n",
    "p, r, thresholds = precision_recall_curve(churn_df.churn, churn_df.pred_prob)\n",
    "\n",
    "plt.plot(thresholds, p[:-1], \"g-\")\n",
    "plt.plot(thresholds, r[:-1], \"r-\")\n",
    "plt.show()\n"
   ]
  },
  {
   "cell_type": "code",
   "execution_count": 209,
   "metadata": {},
   "outputs": [
    {
     "name": "stdout",
     "output_type": "stream",
     "text": [
      "Precision Score:  0.5534591194968553 Recall Score:  0.5398773006134969\n",
      "Accuracy Score: 0.9188347787413832\n"
     ]
    }
   ],
   "source": [
    "churn_df['final_pred'] = churn_df.pred_prob.map(lambda x: 1 if x > 0.33 else 0)\n",
    "\n",
    "print(\"Precision Score: \", precision_score(churn_df['churn'], churn_df['final_pred'] ), \"Recall Score: \", \n",
    "      recall_score(churn_df['churn'],churn_df['final_pred']))\n",
    "\n",
    "print(\"Accuracy Score:\", accuracy_score(churn_df['churn'], churn_df['final_pred']))"
   ]
  },
  {
   "cell_type": "markdown",
   "metadata": {},
   "source": [
    "<h3>Conclusion</h3>"
   ]
  },
  {
   "cell_type": "markdown",
   "metadata": {},
   "source": [
    "After HyperTuning and Comparing the Logistic Regression and Random Forest Classifier, below are the observations:\n",
    "- The Area Under the curve for  Logistic Regression is 0.88 and 0.87 for Random Forest\n",
    "- After hypertuning and handling the class Imbalance problem, the best accuracy we could achieve is 0.92 for LR          model and for RF the best accuracy is 0.92.\n",
    "- The RECALL is 0.37 for Logistic Regression and 0.32 for the Random Forest.\n",
    "- Since, the Recall is important in this case as the company would want to identify more Actual Churn customer on       the penalty of few Non-Churn customer identified as Churn. Hence, we used Precision-Recall trade-off graph,\n",
    "  which gave 0.51 Recall and 0.91 Accuracy for Logistic Regression at threshhold 0.416. Similarly, The Random            Forest Classifier gave  0.54 Recall and 0.92 Accuracy at Threshold 0.33."
   ]
  },
  {
   "cell_type": "markdown",
   "metadata": {},
   "source": [
    "So looking at the Recall and accuracy score above we can conclude that the Random Forest Classifier has outperformed the Logistic Regression when we give importance to RECALL and select the optimum Threshold out of Precision-Recall Tradeoff."
   ]
  },
  {
   "cell_type": "markdown",
   "metadata": {},
   "source": [
    "We have RECALL as a deciding evaluation metric because Recall is the True Positive Rate and it tries to minimize False negative (Churn classified as Non-Churn) and maximize the True Positive (Churn Classified as churn). This will help company to put the advertisments and spending to the right customer."
   ]
  },
  {
   "cell_type": "code",
   "execution_count": null,
   "metadata": {},
   "outputs": [],
   "source": []
  }
 ],
 "metadata": {
  "kernelspec": {
   "display_name": "Python 3",
   "language": "python",
   "name": "python3"
  },
  "language_info": {
   "codemirror_mode": {
    "name": "ipython",
    "version": 3
   },
   "file_extension": ".py",
   "mimetype": "text/x-python",
   "name": "python",
   "nbconvert_exporter": "python",
   "pygments_lexer": "ipython3",
   "version": "3.7.0"
  }
 },
 "nbformat": 4,
 "nbformat_minor": 2
}
